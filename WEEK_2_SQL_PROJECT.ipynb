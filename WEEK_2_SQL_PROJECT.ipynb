{
  "nbformat": 4,
  "nbformat_minor": 0,
  "metadata": {
    "colab": {
      "provenance": []
    },
    "kernelspec": {
      "name": "python3",
      "display_name": "Python 3"
    },
    "language_info": {
      "name": "python"
    }
  },
  "cells": [
    {
      "cell_type": "code",
      "execution_count": null,
      "metadata": {
        "id": "BsbcZcwf4bWw"
      },
      "outputs": [],
      "source": [
        "%load_ext sql"
      ]
    },
    {
      "cell_type": "code",
      "source": [
        "%sql sqlite:///stud_db"
      ],
      "metadata": {
        "id": "CfZt5sWa5NLG"
      },
      "execution_count": null,
      "outputs": []
    },
    {
      "cell_type": "code",
      "source": [
        "%sql SET SQL_SAFE_UPDATES = 0;"
      ],
      "metadata": {
        "colab": {
          "base_uri": "https://localhost:8080/"
        },
        "id": "6-U5wts55kjS",
        "outputId": "c87c559a-4758-4af9-fc43-02a0cc4dd055"
      },
      "execution_count": null,
      "outputs": [
        {
          "output_type": "stream",
          "name": "stdout",
          "text": [
            " * sqlite:///stud_db\n",
            "(sqlite3.OperationalError) near \"SET\": syntax error\n",
            "[SQL: SET SQL_SAFE_UPDATES = 0;]\n",
            "(Background on this error at: https://sqlalche.me/e/20/e3q8)\n"
          ]
        }
      ]
    },
    {
      "cell_type": "code",
      "source": [
        "%%sql\n",
        "CREATE TABLE personal_details (\n",
        "national_ID INTEGER(15) , stud_ID VARCHAR(15),stud_name VARCHAR(100),\n",
        "phone_number VARCHAR(15),age INTEGER, gender VARCHAR(10),\n",
        "PRIMARY KEY(national_ID) );"
      ],
      "metadata": {
        "colab": {
          "base_uri": "https://localhost:8080/"
        },
        "id": "0DN-_mOY5uoV",
        "outputId": "626cb4c1-51de-4631-8348-54348f2f375a"
      },
      "execution_count": null,
      "outputs": [
        {
          "output_type": "stream",
          "name": "stdout",
          "text": [
            " * sqlite:///stud_db\n",
            "Done.\n"
          ]
        },
        {
          "output_type": "execute_result",
          "data": {
            "text/plain": [
              "[]"
            ]
          },
          "metadata": {},
          "execution_count": 4
        }
      ]
    },
    {
      "cell_type": "code",
      "source": [
        "%%sql\n",
        "INSERT INTO personal_details (national_ID,stud_ID,stud_name,phone_number,age,gender)\n",
        "VALUES(\"344534\",\"stud101\",\"Hermione Granger\" ,\"0712345678\",20,\"Male\"),\n",
        "(\"379683\",\"stud102\",\"Draco Malfo\" ,\"0723456781\",21,\"Female\"),\n",
        "(\"347403\",\"stud103\",\"Jayden Wamashati\" ,\"0734567812\",22,\"Male\"),\n",
        "(\"377302\",\"stud104\",\"Ron Weasley\" ,\"0745678123\",19,\"Female\"),\n",
        "(\"336741\",\"stud105\",\"Dolores Umbridge\" ,\"0756781234\",21,\"Male\"),\n",
        "(\"307243\",\"stud106\",\"Hedwig Tonks\" ,\"0767812345\",21,\"Female\"),\n",
        "(\"310932\",\"stud107\",\"Chao Chang\" ,\"0778123456\",22,\"Male\"),\n",
        "(\"343920\",\"stud108\",\"Curfew Yaeitpm\" ,\"0781234567\",20,\"Female\"),\n",
        "(\"345261\",\"stud109\",\"Chaptr Mukenya\" ,\"0722345678\",20,\"Male\"),\n",
        "(\"339152\",\"stud110\",\"Natalie Mpema\" ,\"0733456781\",21,\"Female\"),\n",
        "(\"339746\",\"stud111\",\"Crew Nundi\" ,\"0744567812\",20,\"Male\"),\n",
        "(\"336373\",\"stud112\",\"Bandi Kagunda\" ,\"0755678123\",22,\"Female\"),\n",
        "(\"325252\",\"stud113\",\"Testimony Omolo\" ,\"0766456781\",21,\"Male\"),\n",
        "(\"321746\",\"stud114\",\"Career Mpya\" ,\"0741367812\",20,\"Male\"),\n",
        "(\"390234\",\"stud115\",\"Deamon Anduro\" ,\"0744421123\",22,\"Female\");"
      ],
      "metadata": {
        "colab": {
          "base_uri": "https://localhost:8080/"
        },
        "id": "v12GcMJr6BTZ",
        "outputId": "7e59f8b3-34cc-43d6-951d-282e31a6d036"
      },
      "execution_count": null,
      "outputs": [
        {
          "output_type": "stream",
          "name": "stdout",
          "text": [
            " * sqlite:///stud_db\n",
            "15 rows affected.\n"
          ]
        },
        {
          "output_type": "execute_result",
          "data": {
            "text/plain": [
              "[]"
            ]
          },
          "metadata": {},
          "execution_count": 6
        }
      ]
    },
    {
      "cell_type": "code",
      "source": [
        "%%sql\n",
        "CREATE TABLE school_details(stud_ID VARCHAR(15), current_home_county VARCHAR(20),\n",
        "secondary_school_county VARCHAR(20), residence VARCHAR(15), stud_email VARCHAR(50),\n",
        "PRIMARY KEY (stud_ID)  );"
      ],
      "metadata": {
        "colab": {
          "base_uri": "https://localhost:8080/"
        },
        "id": "w_hvuOqp6PlP",
        "outputId": "571b2c2e-b063-4f83-b70f-c80f95aee055"
      },
      "execution_count": null,
      "outputs": [
        {
          "output_type": "stream",
          "name": "stdout",
          "text": [
            " * sqlite:///stud_db\n",
            "Done.\n"
          ]
        },
        {
          "output_type": "execute_result",
          "data": {
            "text/plain": [
              "[]"
            ]
          },
          "metadata": {},
          "execution_count": 7
        }
      ]
    },
    {
      "cell_type": "code",
      "source": [
        "%%sql\n",
        "INSERT INTO school_details(stud_ID)\n",
        "SELECT stud_ID\n",
        "FROM personal_details;"
      ],
      "metadata": {
        "colab": {
          "base_uri": "https://localhost:8080/"
        },
        "id": "zhoYNBwZ6ZtX",
        "outputId": "d2352763-dfa6-499e-8e68-5c6ffb897acd"
      },
      "execution_count": null,
      "outputs": [
        {
          "output_type": "stream",
          "name": "stdout",
          "text": [
            " * sqlite:///stud_db\n",
            "15 rows affected.\n"
          ]
        },
        {
          "output_type": "execute_result",
          "data": {
            "text/plain": [
              "[]"
            ]
          },
          "metadata": {},
          "execution_count": 8
        }
      ]
    },
    {
      "cell_type": "code",
      "source": [
        "%%sql UPDATE school_details\n",
        "SET stud_email = (SELECT REPLACE (stud_name,' ','')||'@zinduaschool.ac'\n",
        "\t\t\t\t\tFROM personal_details\n",
        "\t\t\t\t\tWHERE school_details.stud_ID = personal_details.stud_ID);"
      ],
      "metadata": {
        "colab": {
          "base_uri": "https://localhost:8080/"
        },
        "id": "Kkp3nudS6fCz",
        "outputId": "5cb67297-e4fd-4b5f-fcd6-4692683a7889"
      },
      "execution_count": null,
      "outputs": [
        {
          "output_type": "stream",
          "name": "stdout",
          "text": [
            " * sqlite:///stud_db\n",
            "15 rows affected.\n"
          ]
        },
        {
          "output_type": "execute_result",
          "data": {
            "text/plain": [
              "[]"
            ]
          },
          "metadata": {},
          "execution_count": 23
        }
      ]
    },
    {
      "cell_type": "code",
      "source": [
        "%%sql\n",
        "UPDATE school_details SET current_home_county=\"Nakuru\", secondary_school_county=\"Nairobi\", residence=\"In school\" WHERE stud_ID=\"stud101\";\n",
        "UPDATE school_details SET current_home_county=\"Nairobi\", secondary_school_county=\"Nakuru\", residence=\"In school\" WHERE stud_ID=\"stud102\";\n",
        "UPDATE school_details SET current_home_county=\"Samburu\", secondary_school_county=\"Nairobi\", residence=\"Out of school\" WHERE stud_ID=\"stud103\";\n",
        "UPDATE school_details SET current_home_county=\"Kericho\", secondary_school_county=\"Nairobi\", residence=\"In school\" WHERE stud_ID=\"stud104\";\n",
        "UPDATE school_details SET current_home_county=\"Nyamira\", secondary_school_county=\"Nakuru\", residence=\"In school\" WHERE stud_ID=\"stud105\";\n",
        "UPDATE school_details SET current_home_county=\"Kisumu\", secondary_school_county=\"Nairobi\", residence=\"Out of school\" WHERE stud_ID=\"stud106\";\n",
        "UPDATE school_details SET current_home_county=\"Nakuru\", secondary_school_county=\"Nairobi\", residence=\"Out of school\" WHERE stud_ID=\"stud107\";\n",
        "UPDATE school_details SET current_home_county=\"Kisumu\", secondary_school_county=\"Mombasa\", residence=\"Out of school\" WHERE stud_ID=\"stud108\";\n",
        "UPDATE school_details SET current_home_county=\"Kericho\", secondary_school_county=\"Mombasa\", residence=\"In school\" WHERE stud_ID=\"stud109\";\n",
        "UPDATE school_details SET current_home_county=\"Nakuru\", secondary_school_county=\"Mombasa\", residence=\"In school\" WHERE stud_ID=\"stud110\";\n",
        "UPDATE school_details SET current_home_county=\"Kiambu\", secondary_school_county=\"Turkana\", residence=\"In school\" WHERE stud_ID=\"stud111\";\n",
        "UPDATE school_details SET current_home_county=\"Nairobi\", secondary_school_county=\"Nakuru\", residence=\"In school\" WHERE stud_ID=\"stud112\";\n",
        "UPDATE school_details SET current_home_county=\"Samburu\", secondary_school_county=\"Taita Taveta\", residence=\"In school\" WHERE stud_ID=\"stud113\";\n",
        "UPDATE school_details SET current_home_county=\"Kericho\", secondary_school_county=\"Nairobi\", residence=\"Out of school\" WHERE stud_ID=\"stud114\";\n",
        "UPDATE school_details SET current_home_county=\"Kiambu\", secondary_school_county=\"Mombasa\", residence=\"In school\" WHERE stud_ID=\"stud115\";\n"
      ],
      "metadata": {
        "colab": {
          "base_uri": "https://localhost:8080/"
        },
        "id": "vi792m-4964r",
        "outputId": "16f0b4dc-0439-44fe-ec72-1460195396d3"
      },
      "execution_count": null,
      "outputs": [
        {
          "output_type": "stream",
          "name": "stdout",
          "text": [
            " * sqlite:///stud_db\n",
            "1 rows affected.\n",
            "1 rows affected.\n",
            "1 rows affected.\n",
            "1 rows affected.\n",
            "1 rows affected.\n",
            "1 rows affected.\n",
            "1 rows affected.\n",
            "1 rows affected.\n",
            "1 rows affected.\n",
            "1 rows affected.\n",
            "1 rows affected.\n",
            "1 rows affected.\n",
            "1 rows affected.\n",
            "1 rows affected.\n",
            "1 rows affected.\n"
          ]
        },
        {
          "output_type": "execute_result",
          "data": {
            "text/plain": [
              "[]"
            ]
          },
          "metadata": {},
          "execution_count": 13
        }
      ]
    },
    {
      "cell_type": "code",
      "source": [
        "%sql CREATE TABLE contact_details (stud_email VARCHAR(50) , phone_number VARCHAR(15), next_of_kin_name VARCHAR(50),next_of_kin_relation VARCHAR(10), next_of_kin_contacts VARCHAR(13) );"
      ],
      "metadata": {
        "colab": {
          "base_uri": "https://localhost:8080/"
        },
        "id": "xrpYJYSK-OdN",
        "outputId": "5e328a7b-3d16-49b9-dff1-ee617061beda"
      },
      "execution_count": null,
      "outputs": [
        {
          "output_type": "stream",
          "name": "stdout",
          "text": [
            " * sqlite:///stud_db\n",
            "Done.\n"
          ]
        },
        {
          "output_type": "execute_result",
          "data": {
            "text/plain": [
              "[]"
            ]
          },
          "metadata": {},
          "execution_count": 14
        }
      ]
    },
    {
      "cell_type": "code",
      "source": [
        "%%sql\n",
        "INSERT INTO contact_details(phone_number, next_of_kin_name,next_of_kin_relation,next_of_kin_contacts)\n",
        "VALUES(\"0712345678\",\"Darius Young\",\"Father\",\"0782382383\"),\n",
        "(\"0723456781\",\"Lucy Nderitu\",\"Mother\",\"0723238983\"),\n",
        "(\"0734567812\",\"Jerotich Koech\",\"Mother\",\"0779343126\"),\n",
        "(\"0745678123\",\"Mwaura Mwangi\",\"Father\",\"0798246347\"),\n",
        "(\"0756781234\",\"Ian Patrick\",\"Father\",\"0711234453\"),\n",
        "(\"0767812345\",\"Lebron James\",\"Father\",\"0765439233\"),\n",
        "(\"0778123456\",\"Magna Carter\",\"Father\",\"0702526243\"),\n",
        "(\"0781234567\",\"Cindy Wayne\",\"Mother\",\"0747282839\"),\n",
        "(\"0722345678\",\"Farah Maalim\",\"Mother\",\"0753927482\"),\n",
        "(\"0733456781\",\"Faiba Mbugua\",\"Father\",\"0713245748\"),\n",
        "(\"0744567812\",\"John Doe\",\"Father\",\"0725737383\"),\n",
        "(\"0755678123\",\"Klaus Michealson\",\"Father\",\"0789346276\"),\n",
        "(\"0766456781\",\"Suluhu Amdany\",\"Mother\",\"0785739259\"),\n",
        "(\"0741367812\",\"Daisy Auma\",\"Mother\",\"0791344537\"),\n",
        "(\"0755421123\",\"Getrude Karen\",\"Mother\",\"0765748244\");"
      ],
      "metadata": {
        "colab": {
          "base_uri": "https://localhost:8080/"
        },
        "id": "UJViana_-az0",
        "outputId": "06d04371-95b6-4c11-ee14-72e4c6eaeeec"
      },
      "execution_count": null,
      "outputs": [
        {
          "output_type": "stream",
          "name": "stdout",
          "text": [
            " * sqlite:///stud_db\n",
            "15 rows affected.\n"
          ]
        },
        {
          "output_type": "execute_result",
          "data": {
            "text/plain": [
              "[]"
            ]
          },
          "metadata": {},
          "execution_count": 15
        }
      ]
    },
    {
      "cell_type": "code",
      "source": [
        "%%sql\n",
        "\n",
        "UPDATE contact_details\n",
        "SET stud_email = (SELECT school_details.stud_email\n",
        "FROM school_details, personal_details\n",
        "WHERE school_details.stud_ID = personal_details.stud_ID\n",
        "AND personal_details.phone_number = contact_details.phone_number);\n"
      ],
      "metadata": {
        "colab": {
          "base_uri": "https://localhost:8080/"
        },
        "id": "63XG-RSN-kxo",
        "outputId": "8d3011a9-bdfa-4c00-c72e-1d6a9cfe3dfe"
      },
      "execution_count": null,
      "outputs": [
        {
          "output_type": "stream",
          "name": "stdout",
          "text": [
            " * sqlite:///stud_db\n",
            "15 rows affected.\n"
          ]
        },
        {
          "output_type": "execute_result",
          "data": {
            "text/plain": [
              "[]"
            ]
          },
          "metadata": {},
          "execution_count": 16
        }
      ]
    },
    {
      "cell_type": "code",
      "source": [
        "%%sql\n",
        "ALTER TABLE contact_details\n",
        "MODIFY stud_email VARCHAR(50) PRIMARY KEY ;"
      ],
      "metadata": {
        "colab": {
          "base_uri": "https://localhost:8080/"
        },
        "id": "QoZUJMqa-rOe",
        "outputId": "ef07c5ef-0685-4d78-8d48-eac43aa4d7f3"
      },
      "execution_count": null,
      "outputs": [
        {
          "output_type": "stream",
          "name": "stdout",
          "text": [
            " * sqlite:///stud_db\n",
            "(sqlite3.OperationalError) near \"MODIFY\": syntax error\n",
            "[SQL: ALTER TABLE contact_details\n",
            "MODIFY stud_email VARCHAR(50) PRIMARY KEY ;]\n",
            "(Background on this error at: https://sqlalche.me/e/20/e3q8)\n"
          ]
        }
      ]
    },
    {
      "cell_type": "code",
      "source": [
        "%%sql\n",
        "CREATE TABLE financial_details (stud_ID VARCHAR(15) ,stud_name VARCHAR(50) ,\n",
        "sem_fee INTEGER(6) , fee_paid INTEGER(6),\n",
        "PRIMARY KEY(stud_ID) );"
      ],
      "metadata": {
        "colab": {
          "base_uri": "https://localhost:8080/"
        },
        "id": "lKcMqWGkCNXE",
        "outputId": "ba628b94-81f1-4651-f628-8374feec976d"
      },
      "execution_count": null,
      "outputs": [
        {
          "output_type": "stream",
          "name": "stdout",
          "text": [
            " * sqlite:///stud_db\n",
            "Done.\n"
          ]
        },
        {
          "output_type": "execute_result",
          "data": {
            "text/plain": [
              "[]"
            ]
          },
          "metadata": {},
          "execution_count": 24
        }
      ]
    },
    {
      "cell_type": "code",
      "source": [
        "%%sql\n",
        "INSERT INTO financial_details(stud_ID,stud_name)\n",
        "SELECT personal_details.stud_ID, personal_details.stud_name\n",
        "FROM personal_details;\n"
      ],
      "metadata": {
        "colab": {
          "base_uri": "https://localhost:8080/"
        },
        "id": "BlNuYF_NCSmd",
        "outputId": "ed07a6f1-1966-49bf-ae89-3ace2cdf510a"
      },
      "execution_count": null,
      "outputs": [
        {
          "output_type": "stream",
          "name": "stdout",
          "text": [
            " * sqlite:///stud_db\n",
            "15 rows affected.\n"
          ]
        },
        {
          "output_type": "execute_result",
          "data": {
            "text/plain": [
              "[]"
            ]
          },
          "metadata": {},
          "execution_count": 25
        }
      ]
    },
    {
      "cell_type": "code",
      "source": [
        "%%sql\n",
        "UPDATE financial_details SET sem_fee = 25000, fee_paid=25000 WHERE stud_ID = \"stud101\";\n",
        "UPDATE financial_details SET sem_fee= 25000, fee_paid=19000 WHERE stud_ID = \"stud102\";\n",
        "UPDATE financial_details SET sem_fee= 21900, fee_paid=20000 WHERE stud_ID = \"stud103\";\n",
        "UPDATE financial_details SET sem_fee= 22000, fee_paid=22000 WHERE stud_ID = \"stud104\";\n",
        "UPDATE financial_details SET sem_fee= 25000, fee_paid=23400 WHERE stud_ID = \"stud105\";\n",
        "UPDATE financial_details SET sem_fee= 25000, fee_paid=27000 WHERE stud_ID = \"stud106\";\n",
        "UPDATE financial_details SET sem_fee= 24230, fee_paid=21200 WHERE stud_ID = \"stud107\";\n",
        "UPDATE financial_details SET sem_fee= 25000, fee_paid=23500 WHERE stud_ID = \"stud108\";\n",
        "UPDATE financial_details SET sem_fee= 25000, fee_paid=24500 WHERE stud_ID = \"stud109\";\n",
        "UPDATE financial_details SET sem_fee= 25000, fee_paid=25000 WHERE stud_ID = \"stud110\";\n",
        "UPDATE financial_details SET sem_fee= 26000, fee_paid=26000 WHERE stud_ID = \"stud111\";\n",
        "UPDATE financial_details SET sem_fee= 25000, fee_paid=20900 WHERE stud_ID = \"stud112\";\n",
        "UPDATE financial_details SET sem_fee= 25000, fee_paid=22300 WHERE stud_ID = \"stud113\";\n",
        "UPDATE financial_details SET sem_fee= 19000, fee_paid=19000 WHERE stud_ID = \"stud114\";\n",
        "UPDATE financial_details SET sem_fee= 20800, fee_paid=20800 WHERE stud_ID = \"stud115\";"
      ],
      "metadata": {
        "colab": {
          "base_uri": "https://localhost:8080/"
        },
        "id": "h_org3klCYXn",
        "outputId": "e58a791f-16fd-4e5f-b85a-32751dc6c744"
      },
      "execution_count": null,
      "outputs": [
        {
          "output_type": "stream",
          "name": "stdout",
          "text": [
            " * sqlite:///stud_db\n",
            "1 rows affected.\n",
            "1 rows affected.\n",
            "1 rows affected.\n",
            "1 rows affected.\n",
            "1 rows affected.\n",
            "1 rows affected.\n",
            "1 rows affected.\n",
            "1 rows affected.\n",
            "1 rows affected.\n",
            "1 rows affected.\n",
            "1 rows affected.\n",
            "1 rows affected.\n",
            "1 rows affected.\n",
            "1 rows affected.\n",
            "1 rows affected.\n"
          ]
        },
        {
          "output_type": "execute_result",
          "data": {
            "text/plain": [
              "[]"
            ]
          },
          "metadata": {},
          "execution_count": 26
        }
      ]
    },
    {
      "cell_type": "code",
      "source": [
        "%sql SET SQL_SAFE_UPDATES =1;"
      ],
      "metadata": {
        "colab": {
          "base_uri": "https://localhost:8080/"
        },
        "id": "50HWCSfUCiSH",
        "outputId": "41c44380-4048-4319-e77b-dde74967a6aa"
      },
      "execution_count": null,
      "outputs": [
        {
          "output_type": "stream",
          "name": "stdout",
          "text": [
            " * sqlite:///stud_db\n",
            "(sqlite3.OperationalError) near \"SET\": syntax error\n",
            "[SQL: SET SQL_SAFE_UPDATES =1;]\n",
            "(Background on this error at: https://sqlalche.me/e/20/e3q8)\n"
          ]
        }
      ]
    },
    {
      "cell_type": "code",
      "source": [
        "%sql SELECT * FROM financial_details;"
      ],
      "metadata": {
        "colab": {
          "base_uri": "https://localhost:8080/",
          "height": 390
        },
        "id": "naNkpcaxCqHC",
        "outputId": "3f043bec-14e4-404f-ce51-3b52b5a23ba7"
      },
      "execution_count": null,
      "outputs": [
        {
          "output_type": "stream",
          "name": "stdout",
          "text": [
            " * sqlite:///stud_db\n",
            "Done.\n"
          ]
        },
        {
          "output_type": "execute_result",
          "data": {
            "text/plain": [
              "[('stud101', 'Hermione Granger', 25000, 25000, None),\n",
              " ('stud102', 'Draco Malfo', 25000, 19000, None),\n",
              " ('stud103', 'Jayden Wamashati', 21900, 20000, None),\n",
              " ('stud104', 'Ron Weasley', 22000, 22000, None),\n",
              " ('stud105', 'Dolores Umbridge', 25000, 23400, None),\n",
              " ('stud106', 'Hedwig Tonks', 25000, 27000, None),\n",
              " ('stud107', 'Chao Chang', 24230, 21200, None),\n",
              " ('stud108', 'Curfew Yaeitpm', 25000, 23500, None),\n",
              " ('stud109', 'Chaptr Mukenya', 25000, 24500, None),\n",
              " ('stud110', 'Natalie Mpema', 25000, 25000, None),\n",
              " ('stud111', 'Crew Nundi', 26000, 26000, None),\n",
              " ('stud112', 'Bandi Kagunda', 25000, 20900, None),\n",
              " ('stud113', 'Testimony Omolo', 25000, 22300, None),\n",
              " ('stud114', 'Career Mpya', 19000, 19000, None),\n",
              " ('stud115', 'Deamon Anduro', 20800, 20800, None)]"
            ],
            "text/html": [
              "<table>\n",
              "    <thead>\n",
              "        <tr>\n",
              "            <th>stud_ID</th>\n",
              "            <th>stud_name</th>\n",
              "            <th>sem_fee</th>\n",
              "            <th>fee_paid</th>\n",
              "            <th>fee_cleared</th>\n",
              "        </tr>\n",
              "    </thead>\n",
              "    <tbody>\n",
              "        <tr>\n",
              "            <td>stud101</td>\n",
              "            <td>Hermione Granger</td>\n",
              "            <td>25000</td>\n",
              "            <td>25000</td>\n",
              "            <td>None</td>\n",
              "        </tr>\n",
              "        <tr>\n",
              "            <td>stud102</td>\n",
              "            <td>Draco Malfo</td>\n",
              "            <td>25000</td>\n",
              "            <td>19000</td>\n",
              "            <td>None</td>\n",
              "        </tr>\n",
              "        <tr>\n",
              "            <td>stud103</td>\n",
              "            <td>Jayden Wamashati</td>\n",
              "            <td>21900</td>\n",
              "            <td>20000</td>\n",
              "            <td>None</td>\n",
              "        </tr>\n",
              "        <tr>\n",
              "            <td>stud104</td>\n",
              "            <td>Ron Weasley</td>\n",
              "            <td>22000</td>\n",
              "            <td>22000</td>\n",
              "            <td>None</td>\n",
              "        </tr>\n",
              "        <tr>\n",
              "            <td>stud105</td>\n",
              "            <td>Dolores Umbridge</td>\n",
              "            <td>25000</td>\n",
              "            <td>23400</td>\n",
              "            <td>None</td>\n",
              "        </tr>\n",
              "        <tr>\n",
              "            <td>stud106</td>\n",
              "            <td>Hedwig Tonks</td>\n",
              "            <td>25000</td>\n",
              "            <td>27000</td>\n",
              "            <td>None</td>\n",
              "        </tr>\n",
              "        <tr>\n",
              "            <td>stud107</td>\n",
              "            <td>Chao Chang</td>\n",
              "            <td>24230</td>\n",
              "            <td>21200</td>\n",
              "            <td>None</td>\n",
              "        </tr>\n",
              "        <tr>\n",
              "            <td>stud108</td>\n",
              "            <td>Curfew Yaeitpm</td>\n",
              "            <td>25000</td>\n",
              "            <td>23500</td>\n",
              "            <td>None</td>\n",
              "        </tr>\n",
              "        <tr>\n",
              "            <td>stud109</td>\n",
              "            <td>Chaptr Mukenya</td>\n",
              "            <td>25000</td>\n",
              "            <td>24500</td>\n",
              "            <td>None</td>\n",
              "        </tr>\n",
              "        <tr>\n",
              "            <td>stud110</td>\n",
              "            <td>Natalie Mpema</td>\n",
              "            <td>25000</td>\n",
              "            <td>25000</td>\n",
              "            <td>None</td>\n",
              "        </tr>\n",
              "        <tr>\n",
              "            <td>stud111</td>\n",
              "            <td>Crew Nundi</td>\n",
              "            <td>26000</td>\n",
              "            <td>26000</td>\n",
              "            <td>None</td>\n",
              "        </tr>\n",
              "        <tr>\n",
              "            <td>stud112</td>\n",
              "            <td>Bandi Kagunda</td>\n",
              "            <td>25000</td>\n",
              "            <td>20900</td>\n",
              "            <td>None</td>\n",
              "        </tr>\n",
              "        <tr>\n",
              "            <td>stud113</td>\n",
              "            <td>Testimony Omolo</td>\n",
              "            <td>25000</td>\n",
              "            <td>22300</td>\n",
              "            <td>None</td>\n",
              "        </tr>\n",
              "        <tr>\n",
              "            <td>stud114</td>\n",
              "            <td>Career Mpya</td>\n",
              "            <td>19000</td>\n",
              "            <td>19000</td>\n",
              "            <td>None</td>\n",
              "        </tr>\n",
              "        <tr>\n",
              "            <td>stud115</td>\n",
              "            <td>Deamon Anduro</td>\n",
              "            <td>20800</td>\n",
              "            <td>20800</td>\n",
              "            <td>None</td>\n",
              "        </tr>\n",
              "    </tbody>\n",
              "</table>"
            ]
          },
          "metadata": {},
          "execution_count": 32
        }
      ]
    },
    {
      "cell_type": "code",
      "source": [
        "%sql SELECT * FROM contact_details;"
      ],
      "metadata": {
        "colab": {
          "base_uri": "https://localhost:8080/",
          "height": 390
        },
        "id": "uYk97vdlC10I",
        "outputId": "1d7ef003-de2b-4ee6-948d-471562e13ee6"
      },
      "execution_count": null,
      "outputs": [
        {
          "output_type": "stream",
          "name": "stdout",
          "text": [
            " * sqlite:///stud_db\n",
            "Done.\n"
          ]
        },
        {
          "output_type": "execute_result",
          "data": {
            "text/plain": [
              "[(None, '0712345678', 'Darius Young', 'Father', '0782382383'),\n",
              " (None, '0723456781', 'Lucy Nderitu', 'Mother', '0723238983'),\n",
              " (None, '0734567812', 'Jerotich Koech', 'Mother', '0779343126'),\n",
              " (None, '0745678123', 'Mwaura Mwangi', 'Father', '0798246347'),\n",
              " (None, '0756781234', 'Ian Patrick', 'Father', '0711234453'),\n",
              " (None, '0767812345', 'Lebron James', 'Father', '0765439233'),\n",
              " (None, '0778123456', 'Magna Carter', 'Father', '0702526243'),\n",
              " (None, '0781234567', 'Cindy Wayne', 'Mother', '0747282839'),\n",
              " (None, '0722345678', 'Farah Maalim', 'Mother', '0753927482'),\n",
              " (None, '0733456781', 'Faiba Mbugua', 'Father', '0713245748'),\n",
              " (None, '0744567812', 'John Doe', 'Father', '0725737383'),\n",
              " (None, '0755678123', 'Klaus Michealson', 'Father', '0789346276'),\n",
              " (None, '0766456781', 'Suluhu Amdany', 'Mother', '0785739259'),\n",
              " (None, '0741367812', 'Daisy Auma', 'Mother', '0791344537'),\n",
              " (None, '0755421123', 'Getrude Karen', 'Mother', '0765748244')]"
            ],
            "text/html": [
              "<table>\n",
              "    <thead>\n",
              "        <tr>\n",
              "            <th>stud_email</th>\n",
              "            <th>phone_number</th>\n",
              "            <th>next_of_kin_name</th>\n",
              "            <th>next_of_kin_relation</th>\n",
              "            <th>next_of_kin_contacts</th>\n",
              "        </tr>\n",
              "    </thead>\n",
              "    <tbody>\n",
              "        <tr>\n",
              "            <td>None</td>\n",
              "            <td>0712345678</td>\n",
              "            <td>Darius Young</td>\n",
              "            <td>Father</td>\n",
              "            <td>0782382383</td>\n",
              "        </tr>\n",
              "        <tr>\n",
              "            <td>None</td>\n",
              "            <td>0723456781</td>\n",
              "            <td>Lucy Nderitu</td>\n",
              "            <td>Mother</td>\n",
              "            <td>0723238983</td>\n",
              "        </tr>\n",
              "        <tr>\n",
              "            <td>None</td>\n",
              "            <td>0734567812</td>\n",
              "            <td>Jerotich Koech</td>\n",
              "            <td>Mother</td>\n",
              "            <td>0779343126</td>\n",
              "        </tr>\n",
              "        <tr>\n",
              "            <td>None</td>\n",
              "            <td>0745678123</td>\n",
              "            <td>Mwaura Mwangi</td>\n",
              "            <td>Father</td>\n",
              "            <td>0798246347</td>\n",
              "        </tr>\n",
              "        <tr>\n",
              "            <td>None</td>\n",
              "            <td>0756781234</td>\n",
              "            <td>Ian Patrick</td>\n",
              "            <td>Father</td>\n",
              "            <td>0711234453</td>\n",
              "        </tr>\n",
              "        <tr>\n",
              "            <td>None</td>\n",
              "            <td>0767812345</td>\n",
              "            <td>Lebron James</td>\n",
              "            <td>Father</td>\n",
              "            <td>0765439233</td>\n",
              "        </tr>\n",
              "        <tr>\n",
              "            <td>None</td>\n",
              "            <td>0778123456</td>\n",
              "            <td>Magna Carter</td>\n",
              "            <td>Father</td>\n",
              "            <td>0702526243</td>\n",
              "        </tr>\n",
              "        <tr>\n",
              "            <td>None</td>\n",
              "            <td>0781234567</td>\n",
              "            <td>Cindy Wayne</td>\n",
              "            <td>Mother</td>\n",
              "            <td>0747282839</td>\n",
              "        </tr>\n",
              "        <tr>\n",
              "            <td>None</td>\n",
              "            <td>0722345678</td>\n",
              "            <td>Farah Maalim</td>\n",
              "            <td>Mother</td>\n",
              "            <td>0753927482</td>\n",
              "        </tr>\n",
              "        <tr>\n",
              "            <td>None</td>\n",
              "            <td>0733456781</td>\n",
              "            <td>Faiba Mbugua</td>\n",
              "            <td>Father</td>\n",
              "            <td>0713245748</td>\n",
              "        </tr>\n",
              "        <tr>\n",
              "            <td>None</td>\n",
              "            <td>0744567812</td>\n",
              "            <td>John Doe</td>\n",
              "            <td>Father</td>\n",
              "            <td>0725737383</td>\n",
              "        </tr>\n",
              "        <tr>\n",
              "            <td>None</td>\n",
              "            <td>0755678123</td>\n",
              "            <td>Klaus Michealson</td>\n",
              "            <td>Father</td>\n",
              "            <td>0789346276</td>\n",
              "        </tr>\n",
              "        <tr>\n",
              "            <td>None</td>\n",
              "            <td>0766456781</td>\n",
              "            <td>Suluhu Amdany</td>\n",
              "            <td>Mother</td>\n",
              "            <td>0785739259</td>\n",
              "        </tr>\n",
              "        <tr>\n",
              "            <td>None</td>\n",
              "            <td>0741367812</td>\n",
              "            <td>Daisy Auma</td>\n",
              "            <td>Mother</td>\n",
              "            <td>0791344537</td>\n",
              "        </tr>\n",
              "        <tr>\n",
              "            <td>None</td>\n",
              "            <td>0755421123</td>\n",
              "            <td>Getrude Karen</td>\n",
              "            <td>Mother</td>\n",
              "            <td>0765748244</td>\n",
              "        </tr>\n",
              "    </tbody>\n",
              "</table>"
            ]
          },
          "metadata": {},
          "execution_count": 29
        }
      ]
    },
    {
      "cell_type": "markdown",
      "source": [
        "1.Using JOIN get the student names, school id, email, phone number (new_stud_details).\n"
      ],
      "metadata": {
        "id": "P2uJMAngEMme"
      }
    },
    {
      "cell_type": "code",
      "source": [
        "%%sql\n",
        "SELECT personal_details.stud_name AS Student_Name, school_details.stud_ID AS School_ID, school_details.stud_email AS Email, contact_details.phone_number AS Phone_Number\n",
        "FROM personal_details\n",
        "INNER JOIN school_details ON personal_details.stud_ID = school_details.stud_ID\n",
        "INNER JOIN contact_details ON personal_details.phone_number = contact_details.phone_number;\n"
      ],
      "metadata": {
        "id": "5JTiQQVaEhbK",
        "colab": {
          "base_uri": "https://localhost:8080/",
          "height": 369
        },
        "outputId": "292f226c-60cc-4b6d-b5ed-f6442357538c"
      },
      "execution_count": 73,
      "outputs": [
        {
          "output_type": "stream",
          "name": "stdout",
          "text": [
            " * sqlite:///stud_db\n",
            "Done.\n"
          ]
        },
        {
          "output_type": "execute_result",
          "data": {
            "text/plain": [
              "[('Hermione Granger', 'stud101', 'HermioneGranger@zinduaschool.ac', '0712345678'),\n",
              " ('Draco Malfo', 'stud102', 'DracoMalfo@zinduaschool.ac', '0723456781'),\n",
              " ('Jayden Wamashati', 'stud103', 'JaydenWamashati@zinduaschool.ac', '0734567812'),\n",
              " ('Ron Weasley', 'stud104', 'RonWeasley@zinduaschool.ac', '0745678123'),\n",
              " ('Dolores Umbridge', 'stud105', 'DoloresUmbridge@zinduaschool.ac', '0756781234'),\n",
              " ('Hedwig Tonks', 'stud106', 'HedwigTonks@zinduaschool.ac', '0767812345'),\n",
              " ('Chao Chang', 'stud107', 'ChaoChang@zinduaschool.ac', '0778123456'),\n",
              " ('Curfew Yaeitpm', 'stud108', 'CurfewYaeitpm@zinduaschool.ac', '0781234567'),\n",
              " ('Chaptr Mukenya', 'stud109', 'ChaptrMukenya@zinduaschool.ac', '0722345678'),\n",
              " ('Natalie Mpema', 'stud110', 'NatalieMpema@zinduaschool.ac', '0733456781'),\n",
              " ('Crew Nundi', 'stud111', 'CrewNundi@zinduaschool.ac', '0744567812'),\n",
              " ('Bandi Kagunda', 'stud112', 'BandiKagunda@zinduaschool.ac', '0755678123'),\n",
              " ('Testimony Omolo', 'stud113', 'TestimonyOmolo@zinduaschool.ac', '0766456781'),\n",
              " ('Career Mpya', 'stud114', 'CareerMpya@zinduaschool.ac', '0741367812')]"
            ],
            "text/html": [
              "<table>\n",
              "    <thead>\n",
              "        <tr>\n",
              "            <th>Student_Name</th>\n",
              "            <th>School_ID</th>\n",
              "            <th>Email</th>\n",
              "            <th>Phone_Number</th>\n",
              "        </tr>\n",
              "    </thead>\n",
              "    <tbody>\n",
              "        <tr>\n",
              "            <td>Hermione Granger</td>\n",
              "            <td>stud101</td>\n",
              "            <td>HermioneGranger@zinduaschool.ac</td>\n",
              "            <td>0712345678</td>\n",
              "        </tr>\n",
              "        <tr>\n",
              "            <td>Draco Malfo</td>\n",
              "            <td>stud102</td>\n",
              "            <td>DracoMalfo@zinduaschool.ac</td>\n",
              "            <td>0723456781</td>\n",
              "        </tr>\n",
              "        <tr>\n",
              "            <td>Jayden Wamashati</td>\n",
              "            <td>stud103</td>\n",
              "            <td>JaydenWamashati@zinduaschool.ac</td>\n",
              "            <td>0734567812</td>\n",
              "        </tr>\n",
              "        <tr>\n",
              "            <td>Ron Weasley</td>\n",
              "            <td>stud104</td>\n",
              "            <td>RonWeasley@zinduaschool.ac</td>\n",
              "            <td>0745678123</td>\n",
              "        </tr>\n",
              "        <tr>\n",
              "            <td>Dolores Umbridge</td>\n",
              "            <td>stud105</td>\n",
              "            <td>DoloresUmbridge@zinduaschool.ac</td>\n",
              "            <td>0756781234</td>\n",
              "        </tr>\n",
              "        <tr>\n",
              "            <td>Hedwig Tonks</td>\n",
              "            <td>stud106</td>\n",
              "            <td>HedwigTonks@zinduaschool.ac</td>\n",
              "            <td>0767812345</td>\n",
              "        </tr>\n",
              "        <tr>\n",
              "            <td>Chao Chang</td>\n",
              "            <td>stud107</td>\n",
              "            <td>ChaoChang@zinduaschool.ac</td>\n",
              "            <td>0778123456</td>\n",
              "        </tr>\n",
              "        <tr>\n",
              "            <td>Curfew Yaeitpm</td>\n",
              "            <td>stud108</td>\n",
              "            <td>CurfewYaeitpm@zinduaschool.ac</td>\n",
              "            <td>0781234567</td>\n",
              "        </tr>\n",
              "        <tr>\n",
              "            <td>Chaptr Mukenya</td>\n",
              "            <td>stud109</td>\n",
              "            <td>ChaptrMukenya@zinduaschool.ac</td>\n",
              "            <td>0722345678</td>\n",
              "        </tr>\n",
              "        <tr>\n",
              "            <td>Natalie Mpema</td>\n",
              "            <td>stud110</td>\n",
              "            <td>NatalieMpema@zinduaschool.ac</td>\n",
              "            <td>0733456781</td>\n",
              "        </tr>\n",
              "        <tr>\n",
              "            <td>Crew Nundi</td>\n",
              "            <td>stud111</td>\n",
              "            <td>CrewNundi@zinduaschool.ac</td>\n",
              "            <td>0744567812</td>\n",
              "        </tr>\n",
              "        <tr>\n",
              "            <td>Bandi Kagunda</td>\n",
              "            <td>stud112</td>\n",
              "            <td>BandiKagunda@zinduaschool.ac</td>\n",
              "            <td>0755678123</td>\n",
              "        </tr>\n",
              "        <tr>\n",
              "            <td>Testimony Omolo</td>\n",
              "            <td>stud113</td>\n",
              "            <td>TestimonyOmolo@zinduaschool.ac</td>\n",
              "            <td>0766456781</td>\n",
              "        </tr>\n",
              "        <tr>\n",
              "            <td>Career Mpya</td>\n",
              "            <td>stud114</td>\n",
              "            <td>CareerMpya@zinduaschool.ac</td>\n",
              "            <td>0741367812</td>\n",
              "        </tr>\n",
              "    </tbody>\n",
              "</table>"
            ]
          },
          "metadata": {},
          "execution_count": 73
        }
      ]
    },
    {
      "cell_type": "markdown",
      "source": [
        "2. Create a table with all the details from contacts to school and financial details (full_stud_details)\n"
      ],
      "metadata": {
        "id": "C-tHzuioOLJE"
      }
    },
    {
      "cell_type": "code",
      "source": [
        "%%sql\n",
        "CREATE TABLE full_stud_details AS\n",
        "SELECT * FROM personal_details\n",
        "INNER JOIN school_details ON personal_details.stud_ID = school_details.stud_ID\n",
        "INNER JOIN contact_details ON personal_details.phone_number = contact_details.phone_number\n",
        "INNER JOIN financial_details ON personal_details.stud_ID = financial_details.stud_ID;\n"
      ],
      "metadata": {
        "id": "7-Cpy1R9OfN2",
        "colab": {
          "base_uri": "https://localhost:8080/"
        },
        "outputId": "dd61eb8e-e87e-4bb6-9189-ef5c9d9e289a"
      },
      "execution_count": 75,
      "outputs": [
        {
          "output_type": "stream",
          "name": "stdout",
          "text": [
            " * sqlite:///stud_db\n",
            "(sqlite3.OperationalError) table full_stud_details already exists\n",
            "[SQL: CREATE TABLE full_stud_details AS\n",
            "SELECT * FROM personal_details\n",
            "INNER JOIN school_details ON personal_details.stud_ID = school_details.stud_ID\n",
            "INNER JOIN contact_details ON personal_details.phone_number = contact_details.phone_number\n",
            "INNER JOIN financial_details ON personal_details.stud_ID = financial_details.stud_ID;]\n",
            "(Background on this error at: https://sqlalche.me/e/20/e3q8)\n"
          ]
        }
      ]
    },
    {
      "cell_type": "code",
      "source": [
        "%%sql\n",
        "SELECT * FROM full_stud_details;"
      ],
      "metadata": {
        "colab": {
          "base_uri": "https://localhost:8080/",
          "height": 615
        },
        "id": "IpgfLO497YTc",
        "outputId": "0874840f-9f7f-4960-ec9a-50bcee95fe84"
      },
      "execution_count": 76,
      "outputs": [
        {
          "output_type": "stream",
          "name": "stdout",
          "text": [
            " * sqlite:///stud_db\n",
            "Done.\n"
          ]
        },
        {
          "output_type": "execute_result",
          "data": {
            "text/plain": [
              "[(344534, 'stud101', 'Hermione Granger', '0712345678', 20, 'Male', 'stud101', 'Nakuru', 'Nairobi', 'In school', 'HermioneGranger@zinduaschool.ac', None, '0712345678', 'Darius Young', 'Father', '0782382383', 'stud101', 'Hermione Granger', 25000, 25000, 1),\n",
              " (379683, 'stud102', 'Draco Malfo', '0723456781', 21, 'Female', 'stud102', 'Nairobi', 'Nakuru', 'In school', 'DracoMalfo@zinduaschool.ac', None, '0723456781', 'Lucy Nderitu', 'Mother', '0723238983', 'stud102', 'Draco Malfo', 25000, 19000, 0),\n",
              " (347403, 'stud103', 'Jayden Wamashati', '0734567812', 22, 'Male', 'stud103', 'Samburu', 'Nairobi', 'Out of school', 'JaydenWamashati@zinduaschool.ac', None, '0734567812', 'Jerotich Koech', 'Mother', '0779343126', 'stud103', 'Jayden Wamashati', 21900, 20000, 0),\n",
              " (377302, 'stud104', 'Ron Weasley', '0745678123', 19, 'Female', 'stud104', 'Kericho', 'Nairobi', 'In school', 'RonWeasley@zinduaschool.ac', None, '0745678123', 'Mwaura Mwangi', 'Father', '0798246347', 'stud104', 'Ron Weasley', 22000, 22000, 1),\n",
              " (336741, 'stud105', 'Dolores Umbridge', '0756781234', 21, 'Male', 'stud105', 'Nyamira', 'Nakuru', 'In school', 'DoloresUmbridge@zinduaschool.ac', None, '0756781234', 'Ian Patrick', 'Father', '0711234453', 'stud105', 'Dolores Umbridge', 25000, 23400, 0),\n",
              " (307243, 'stud106', 'Hedwig Tonks', '0767812345', 21, 'Female', 'stud106', 'Kisumu', 'Nairobi', 'Out of school', 'HedwigTonks@zinduaschool.ac', None, '0767812345', 'Lebron James', 'Father', '0765439233', 'stud106', 'Hedwig Tonks', 25000, 27000, 0),\n",
              " (310932, 'stud107', 'Chao Chang', '0778123456', 22, 'Male', 'stud107', 'Nakuru', 'Nairobi', 'Out of school', 'ChaoChang@zinduaschool.ac', None, '0778123456', 'Magna Carter', 'Father', '0702526243', 'stud107', 'Chao Chang', 24230, 21200, 0),\n",
              " (343920, 'stud108', 'Curfew Yaeitpm', '0781234567', 20, 'Female', 'stud108', 'Kisumu', 'Mombasa', 'Out of school', 'CurfewYaeitpm@zinduaschool.ac', None, '0781234567', 'Cindy Wayne', 'Mother', '0747282839', 'stud108', 'Curfew Yaeitpm', 25000, 23500, 0),\n",
              " (345261, 'stud109', 'Chaptr Mukenya', '0722345678', 20, 'Male', 'stud109', 'Kericho', 'Mombasa', 'In school', 'ChaptrMukenya@zinduaschool.ac', None, '0722345678', 'Farah Maalim', 'Mother', '0753927482', 'stud109', 'Chaptr Mukenya', 25000, 24500, 0),\n",
              " (339152, 'stud110', 'Natalie Mpema', '0733456781', 21, 'Female', 'stud110', 'Nakuru', 'Mombasa', 'In school', 'NatalieMpema@zinduaschool.ac', None, '0733456781', 'Faiba Mbugua', 'Father', '0713245748', 'stud110', 'Natalie Mpema', 25000, 25000, 1),\n",
              " (339746, 'stud111', 'Crew Nundi', '0744567812', 20, 'Male', 'stud111', 'Kiambu', 'Turkana', 'In school', 'CrewNundi@zinduaschool.ac', None, '0744567812', 'John Doe', 'Father', '0725737383', 'stud111', 'Crew Nundi', 26000, 26000, 1),\n",
              " (336373, 'stud112', 'Bandi Kagunda', '0755678123', 22, 'Female', 'stud112', 'Nairobi', 'Nakuru', 'In school', 'BandiKagunda@zinduaschool.ac', None, '0755678123', 'Klaus Michealson', 'Father', '0789346276', 'stud112', 'Bandi Kagunda', 25000, 20900, 0),\n",
              " (325252, 'stud113', 'Testimony Omolo', '0766456781', 21, 'Male', 'stud113', 'Samburu', 'Taita Taveta', 'In school', 'TestimonyOmolo@zinduaschool.ac', None, '0766456781', 'Suluhu Amdany', 'Mother', '0785739259', 'stud113', 'Testimony Omolo', 25000, 22300, 0),\n",
              " (321746, 'stud114', 'Career Mpya', '0741367812', 20, 'Male', 'stud114', 'Kericho', 'Nairobi', 'Out of school', 'CareerMpya@zinduaschool.ac', None, '0741367812', 'Daisy Auma', 'Mother', '0791344537', 'stud114', 'Career Mpya', 19000, 19000, 1)]"
            ],
            "text/html": [
              "<table>\n",
              "    <thead>\n",
              "        <tr>\n",
              "            <th>national_ID</th>\n",
              "            <th>stud_ID</th>\n",
              "            <th>stud_name</th>\n",
              "            <th>phone_number</th>\n",
              "            <th>age</th>\n",
              "            <th>gender</th>\n",
              "            <th>stud_ID:1</th>\n",
              "            <th>current_home_county</th>\n",
              "            <th>secondary_school_county</th>\n",
              "            <th>residence</th>\n",
              "            <th>stud_email</th>\n",
              "            <th>stud_email:1</th>\n",
              "            <th>phone_number:1</th>\n",
              "            <th>next_of_kin_name</th>\n",
              "            <th>next_of_kin_relation</th>\n",
              "            <th>next_of_kin_contacts</th>\n",
              "            <th>stud_ID:2</th>\n",
              "            <th>stud_name:1</th>\n",
              "            <th>sem_fee</th>\n",
              "            <th>fee_paid</th>\n",
              "            <th>fee_cleared</th>\n",
              "        </tr>\n",
              "    </thead>\n",
              "    <tbody>\n",
              "        <tr>\n",
              "            <td>344534</td>\n",
              "            <td>stud101</td>\n",
              "            <td>Hermione Granger</td>\n",
              "            <td>0712345678</td>\n",
              "            <td>20</td>\n",
              "            <td>Male</td>\n",
              "            <td>stud101</td>\n",
              "            <td>Nakuru</td>\n",
              "            <td>Nairobi</td>\n",
              "            <td>In school</td>\n",
              "            <td>HermioneGranger@zinduaschool.ac</td>\n",
              "            <td>None</td>\n",
              "            <td>0712345678</td>\n",
              "            <td>Darius Young</td>\n",
              "            <td>Father</td>\n",
              "            <td>0782382383</td>\n",
              "            <td>stud101</td>\n",
              "            <td>Hermione Granger</td>\n",
              "            <td>25000</td>\n",
              "            <td>25000</td>\n",
              "            <td>1</td>\n",
              "        </tr>\n",
              "        <tr>\n",
              "            <td>379683</td>\n",
              "            <td>stud102</td>\n",
              "            <td>Draco Malfo</td>\n",
              "            <td>0723456781</td>\n",
              "            <td>21</td>\n",
              "            <td>Female</td>\n",
              "            <td>stud102</td>\n",
              "            <td>Nairobi</td>\n",
              "            <td>Nakuru</td>\n",
              "            <td>In school</td>\n",
              "            <td>DracoMalfo@zinduaschool.ac</td>\n",
              "            <td>None</td>\n",
              "            <td>0723456781</td>\n",
              "            <td>Lucy Nderitu</td>\n",
              "            <td>Mother</td>\n",
              "            <td>0723238983</td>\n",
              "            <td>stud102</td>\n",
              "            <td>Draco Malfo</td>\n",
              "            <td>25000</td>\n",
              "            <td>19000</td>\n",
              "            <td>0</td>\n",
              "        </tr>\n",
              "        <tr>\n",
              "            <td>347403</td>\n",
              "            <td>stud103</td>\n",
              "            <td>Jayden Wamashati</td>\n",
              "            <td>0734567812</td>\n",
              "            <td>22</td>\n",
              "            <td>Male</td>\n",
              "            <td>stud103</td>\n",
              "            <td>Samburu</td>\n",
              "            <td>Nairobi</td>\n",
              "            <td>Out of school</td>\n",
              "            <td>JaydenWamashati@zinduaschool.ac</td>\n",
              "            <td>None</td>\n",
              "            <td>0734567812</td>\n",
              "            <td>Jerotich Koech</td>\n",
              "            <td>Mother</td>\n",
              "            <td>0779343126</td>\n",
              "            <td>stud103</td>\n",
              "            <td>Jayden Wamashati</td>\n",
              "            <td>21900</td>\n",
              "            <td>20000</td>\n",
              "            <td>0</td>\n",
              "        </tr>\n",
              "        <tr>\n",
              "            <td>377302</td>\n",
              "            <td>stud104</td>\n",
              "            <td>Ron Weasley</td>\n",
              "            <td>0745678123</td>\n",
              "            <td>19</td>\n",
              "            <td>Female</td>\n",
              "            <td>stud104</td>\n",
              "            <td>Kericho</td>\n",
              "            <td>Nairobi</td>\n",
              "            <td>In school</td>\n",
              "            <td>RonWeasley@zinduaschool.ac</td>\n",
              "            <td>None</td>\n",
              "            <td>0745678123</td>\n",
              "            <td>Mwaura Mwangi</td>\n",
              "            <td>Father</td>\n",
              "            <td>0798246347</td>\n",
              "            <td>stud104</td>\n",
              "            <td>Ron Weasley</td>\n",
              "            <td>22000</td>\n",
              "            <td>22000</td>\n",
              "            <td>1</td>\n",
              "        </tr>\n",
              "        <tr>\n",
              "            <td>336741</td>\n",
              "            <td>stud105</td>\n",
              "            <td>Dolores Umbridge</td>\n",
              "            <td>0756781234</td>\n",
              "            <td>21</td>\n",
              "            <td>Male</td>\n",
              "            <td>stud105</td>\n",
              "            <td>Nyamira</td>\n",
              "            <td>Nakuru</td>\n",
              "            <td>In school</td>\n",
              "            <td>DoloresUmbridge@zinduaschool.ac</td>\n",
              "            <td>None</td>\n",
              "            <td>0756781234</td>\n",
              "            <td>Ian Patrick</td>\n",
              "            <td>Father</td>\n",
              "            <td>0711234453</td>\n",
              "            <td>stud105</td>\n",
              "            <td>Dolores Umbridge</td>\n",
              "            <td>25000</td>\n",
              "            <td>23400</td>\n",
              "            <td>0</td>\n",
              "        </tr>\n",
              "        <tr>\n",
              "            <td>307243</td>\n",
              "            <td>stud106</td>\n",
              "            <td>Hedwig Tonks</td>\n",
              "            <td>0767812345</td>\n",
              "            <td>21</td>\n",
              "            <td>Female</td>\n",
              "            <td>stud106</td>\n",
              "            <td>Kisumu</td>\n",
              "            <td>Nairobi</td>\n",
              "            <td>Out of school</td>\n",
              "            <td>HedwigTonks@zinduaschool.ac</td>\n",
              "            <td>None</td>\n",
              "            <td>0767812345</td>\n",
              "            <td>Lebron James</td>\n",
              "            <td>Father</td>\n",
              "            <td>0765439233</td>\n",
              "            <td>stud106</td>\n",
              "            <td>Hedwig Tonks</td>\n",
              "            <td>25000</td>\n",
              "            <td>27000</td>\n",
              "            <td>0</td>\n",
              "        </tr>\n",
              "        <tr>\n",
              "            <td>310932</td>\n",
              "            <td>stud107</td>\n",
              "            <td>Chao Chang</td>\n",
              "            <td>0778123456</td>\n",
              "            <td>22</td>\n",
              "            <td>Male</td>\n",
              "            <td>stud107</td>\n",
              "            <td>Nakuru</td>\n",
              "            <td>Nairobi</td>\n",
              "            <td>Out of school</td>\n",
              "            <td>ChaoChang@zinduaschool.ac</td>\n",
              "            <td>None</td>\n",
              "            <td>0778123456</td>\n",
              "            <td>Magna Carter</td>\n",
              "            <td>Father</td>\n",
              "            <td>0702526243</td>\n",
              "            <td>stud107</td>\n",
              "            <td>Chao Chang</td>\n",
              "            <td>24230</td>\n",
              "            <td>21200</td>\n",
              "            <td>0</td>\n",
              "        </tr>\n",
              "        <tr>\n",
              "            <td>343920</td>\n",
              "            <td>stud108</td>\n",
              "            <td>Curfew Yaeitpm</td>\n",
              "            <td>0781234567</td>\n",
              "            <td>20</td>\n",
              "            <td>Female</td>\n",
              "            <td>stud108</td>\n",
              "            <td>Kisumu</td>\n",
              "            <td>Mombasa</td>\n",
              "            <td>Out of school</td>\n",
              "            <td>CurfewYaeitpm@zinduaschool.ac</td>\n",
              "            <td>None</td>\n",
              "            <td>0781234567</td>\n",
              "            <td>Cindy Wayne</td>\n",
              "            <td>Mother</td>\n",
              "            <td>0747282839</td>\n",
              "            <td>stud108</td>\n",
              "            <td>Curfew Yaeitpm</td>\n",
              "            <td>25000</td>\n",
              "            <td>23500</td>\n",
              "            <td>0</td>\n",
              "        </tr>\n",
              "        <tr>\n",
              "            <td>345261</td>\n",
              "            <td>stud109</td>\n",
              "            <td>Chaptr Mukenya</td>\n",
              "            <td>0722345678</td>\n",
              "            <td>20</td>\n",
              "            <td>Male</td>\n",
              "            <td>stud109</td>\n",
              "            <td>Kericho</td>\n",
              "            <td>Mombasa</td>\n",
              "            <td>In school</td>\n",
              "            <td>ChaptrMukenya@zinduaschool.ac</td>\n",
              "            <td>None</td>\n",
              "            <td>0722345678</td>\n",
              "            <td>Farah Maalim</td>\n",
              "            <td>Mother</td>\n",
              "            <td>0753927482</td>\n",
              "            <td>stud109</td>\n",
              "            <td>Chaptr Mukenya</td>\n",
              "            <td>25000</td>\n",
              "            <td>24500</td>\n",
              "            <td>0</td>\n",
              "        </tr>\n",
              "        <tr>\n",
              "            <td>339152</td>\n",
              "            <td>stud110</td>\n",
              "            <td>Natalie Mpema</td>\n",
              "            <td>0733456781</td>\n",
              "            <td>21</td>\n",
              "            <td>Female</td>\n",
              "            <td>stud110</td>\n",
              "            <td>Nakuru</td>\n",
              "            <td>Mombasa</td>\n",
              "            <td>In school</td>\n",
              "            <td>NatalieMpema@zinduaschool.ac</td>\n",
              "            <td>None</td>\n",
              "            <td>0733456781</td>\n",
              "            <td>Faiba Mbugua</td>\n",
              "            <td>Father</td>\n",
              "            <td>0713245748</td>\n",
              "            <td>stud110</td>\n",
              "            <td>Natalie Mpema</td>\n",
              "            <td>25000</td>\n",
              "            <td>25000</td>\n",
              "            <td>1</td>\n",
              "        </tr>\n",
              "        <tr>\n",
              "            <td>339746</td>\n",
              "            <td>stud111</td>\n",
              "            <td>Crew Nundi</td>\n",
              "            <td>0744567812</td>\n",
              "            <td>20</td>\n",
              "            <td>Male</td>\n",
              "            <td>stud111</td>\n",
              "            <td>Kiambu</td>\n",
              "            <td>Turkana</td>\n",
              "            <td>In school</td>\n",
              "            <td>CrewNundi@zinduaschool.ac</td>\n",
              "            <td>None</td>\n",
              "            <td>0744567812</td>\n",
              "            <td>John Doe</td>\n",
              "            <td>Father</td>\n",
              "            <td>0725737383</td>\n",
              "            <td>stud111</td>\n",
              "            <td>Crew Nundi</td>\n",
              "            <td>26000</td>\n",
              "            <td>26000</td>\n",
              "            <td>1</td>\n",
              "        </tr>\n",
              "        <tr>\n",
              "            <td>336373</td>\n",
              "            <td>stud112</td>\n",
              "            <td>Bandi Kagunda</td>\n",
              "            <td>0755678123</td>\n",
              "            <td>22</td>\n",
              "            <td>Female</td>\n",
              "            <td>stud112</td>\n",
              "            <td>Nairobi</td>\n",
              "            <td>Nakuru</td>\n",
              "            <td>In school</td>\n",
              "            <td>BandiKagunda@zinduaschool.ac</td>\n",
              "            <td>None</td>\n",
              "            <td>0755678123</td>\n",
              "            <td>Klaus Michealson</td>\n",
              "            <td>Father</td>\n",
              "            <td>0789346276</td>\n",
              "            <td>stud112</td>\n",
              "            <td>Bandi Kagunda</td>\n",
              "            <td>25000</td>\n",
              "            <td>20900</td>\n",
              "            <td>0</td>\n",
              "        </tr>\n",
              "        <tr>\n",
              "            <td>325252</td>\n",
              "            <td>stud113</td>\n",
              "            <td>Testimony Omolo</td>\n",
              "            <td>0766456781</td>\n",
              "            <td>21</td>\n",
              "            <td>Male</td>\n",
              "            <td>stud113</td>\n",
              "            <td>Samburu</td>\n",
              "            <td>Taita Taveta</td>\n",
              "            <td>In school</td>\n",
              "            <td>TestimonyOmolo@zinduaschool.ac</td>\n",
              "            <td>None</td>\n",
              "            <td>0766456781</td>\n",
              "            <td>Suluhu Amdany</td>\n",
              "            <td>Mother</td>\n",
              "            <td>0785739259</td>\n",
              "            <td>stud113</td>\n",
              "            <td>Testimony Omolo</td>\n",
              "            <td>25000</td>\n",
              "            <td>22300</td>\n",
              "            <td>0</td>\n",
              "        </tr>\n",
              "        <tr>\n",
              "            <td>321746</td>\n",
              "            <td>stud114</td>\n",
              "            <td>Career Mpya</td>\n",
              "            <td>0741367812</td>\n",
              "            <td>20</td>\n",
              "            <td>Male</td>\n",
              "            <td>stud114</td>\n",
              "            <td>Kericho</td>\n",
              "            <td>Nairobi</td>\n",
              "            <td>Out of school</td>\n",
              "            <td>CareerMpya@zinduaschool.ac</td>\n",
              "            <td>None</td>\n",
              "            <td>0741367812</td>\n",
              "            <td>Daisy Auma</td>\n",
              "            <td>Mother</td>\n",
              "            <td>0791344537</td>\n",
              "            <td>stud114</td>\n",
              "            <td>Career Mpya</td>\n",
              "            <td>19000</td>\n",
              "            <td>19000</td>\n",
              "            <td>1</td>\n",
              "        </tr>\n",
              "    </tbody>\n",
              "</table>"
            ]
          },
          "metadata": {},
          "execution_count": 76
        }
      ]
    },
    {
      "cell_type": "code",
      "source": [
        "%%sql\n",
        "SELECT *FROM full_stud_details LIMIT 10;"
      ],
      "metadata": {
        "colab": {
          "base_uri": "https://localhost:8080/",
          "height": 479
        },
        "id": "ZC0SalOZ7p9r",
        "outputId": "3a24d6a4-08cd-43f5-cd8b-62cc9670522b"
      },
      "execution_count": 79,
      "outputs": [
        {
          "output_type": "stream",
          "name": "stdout",
          "text": [
            " * sqlite:///stud_db\n",
            "Done.\n"
          ]
        },
        {
          "output_type": "execute_result",
          "data": {
            "text/plain": [
              "[(344534, 'stud101', 'Hermione Granger', '0712345678', 20, 'Male', 'stud101', 'Nakuru', 'Nairobi', 'In school', 'HermioneGranger@zinduaschool.ac', None, '0712345678', 'Darius Young', 'Father', '0782382383', 'stud101', 'Hermione Granger', 25000, 25000, 1),\n",
              " (379683, 'stud102', 'Draco Malfo', '0723456781', 21, 'Female', 'stud102', 'Nairobi', 'Nakuru', 'In school', 'DracoMalfo@zinduaschool.ac', None, '0723456781', 'Lucy Nderitu', 'Mother', '0723238983', 'stud102', 'Draco Malfo', 25000, 19000, 0),\n",
              " (347403, 'stud103', 'Jayden Wamashati', '0734567812', 22, 'Male', 'stud103', 'Samburu', 'Nairobi', 'Out of school', 'JaydenWamashati@zinduaschool.ac', None, '0734567812', 'Jerotich Koech', 'Mother', '0779343126', 'stud103', 'Jayden Wamashati', 21900, 20000, 0),\n",
              " (377302, 'stud104', 'Ron Weasley', '0745678123', 19, 'Female', 'stud104', 'Kericho', 'Nairobi', 'In school', 'RonWeasley@zinduaschool.ac', None, '0745678123', 'Mwaura Mwangi', 'Father', '0798246347', 'stud104', 'Ron Weasley', 22000, 22000, 1),\n",
              " (336741, 'stud105', 'Dolores Umbridge', '0756781234', 21, 'Male', 'stud105', 'Nyamira', 'Nakuru', 'In school', 'DoloresUmbridge@zinduaschool.ac', None, '0756781234', 'Ian Patrick', 'Father', '0711234453', 'stud105', 'Dolores Umbridge', 25000, 23400, 0),\n",
              " (307243, 'stud106', 'Hedwig Tonks', '0767812345', 21, 'Female', 'stud106', 'Kisumu', 'Nairobi', 'Out of school', 'HedwigTonks@zinduaschool.ac', None, '0767812345', 'Lebron James', 'Father', '0765439233', 'stud106', 'Hedwig Tonks', 25000, 27000, 0),\n",
              " (310932, 'stud107', 'Chao Chang', '0778123456', 22, 'Male', 'stud107', 'Nakuru', 'Nairobi', 'Out of school', 'ChaoChang@zinduaschool.ac', None, '0778123456', 'Magna Carter', 'Father', '0702526243', 'stud107', 'Chao Chang', 24230, 21200, 0),\n",
              " (343920, 'stud108', 'Curfew Yaeitpm', '0781234567', 20, 'Female', 'stud108', 'Kisumu', 'Mombasa', 'Out of school', 'CurfewYaeitpm@zinduaschool.ac', None, '0781234567', 'Cindy Wayne', 'Mother', '0747282839', 'stud108', 'Curfew Yaeitpm', 25000, 23500, 0),\n",
              " (345261, 'stud109', 'Chaptr Mukenya', '0722345678', 20, 'Male', 'stud109', 'Kericho', 'Mombasa', 'In school', 'ChaptrMukenya@zinduaschool.ac', None, '0722345678', 'Farah Maalim', 'Mother', '0753927482', 'stud109', 'Chaptr Mukenya', 25000, 24500, 0),\n",
              " (339152, 'stud110', 'Natalie Mpema', '0733456781', 21, 'Female', 'stud110', 'Nakuru', 'Mombasa', 'In school', 'NatalieMpema@zinduaschool.ac', None, '0733456781', 'Faiba Mbugua', 'Father', '0713245748', 'stud110', 'Natalie Mpema', 25000, 25000, 1)]"
            ],
            "text/html": [
              "<table>\n",
              "    <thead>\n",
              "        <tr>\n",
              "            <th>national_ID</th>\n",
              "            <th>stud_ID</th>\n",
              "            <th>stud_name</th>\n",
              "            <th>phone_number</th>\n",
              "            <th>age</th>\n",
              "            <th>gender</th>\n",
              "            <th>stud_ID:1</th>\n",
              "            <th>current_home_county</th>\n",
              "            <th>secondary_school_county</th>\n",
              "            <th>residence</th>\n",
              "            <th>stud_email</th>\n",
              "            <th>stud_email:1</th>\n",
              "            <th>phone_number:1</th>\n",
              "            <th>next_of_kin_name</th>\n",
              "            <th>next_of_kin_relation</th>\n",
              "            <th>next_of_kin_contacts</th>\n",
              "            <th>stud_ID:2</th>\n",
              "            <th>stud_name:1</th>\n",
              "            <th>sem_fee</th>\n",
              "            <th>fee_paid</th>\n",
              "            <th>fee_cleared</th>\n",
              "        </tr>\n",
              "    </thead>\n",
              "    <tbody>\n",
              "        <tr>\n",
              "            <td>344534</td>\n",
              "            <td>stud101</td>\n",
              "            <td>Hermione Granger</td>\n",
              "            <td>0712345678</td>\n",
              "            <td>20</td>\n",
              "            <td>Male</td>\n",
              "            <td>stud101</td>\n",
              "            <td>Nakuru</td>\n",
              "            <td>Nairobi</td>\n",
              "            <td>In school</td>\n",
              "            <td>HermioneGranger@zinduaschool.ac</td>\n",
              "            <td>None</td>\n",
              "            <td>0712345678</td>\n",
              "            <td>Darius Young</td>\n",
              "            <td>Father</td>\n",
              "            <td>0782382383</td>\n",
              "            <td>stud101</td>\n",
              "            <td>Hermione Granger</td>\n",
              "            <td>25000</td>\n",
              "            <td>25000</td>\n",
              "            <td>1</td>\n",
              "        </tr>\n",
              "        <tr>\n",
              "            <td>379683</td>\n",
              "            <td>stud102</td>\n",
              "            <td>Draco Malfo</td>\n",
              "            <td>0723456781</td>\n",
              "            <td>21</td>\n",
              "            <td>Female</td>\n",
              "            <td>stud102</td>\n",
              "            <td>Nairobi</td>\n",
              "            <td>Nakuru</td>\n",
              "            <td>In school</td>\n",
              "            <td>DracoMalfo@zinduaschool.ac</td>\n",
              "            <td>None</td>\n",
              "            <td>0723456781</td>\n",
              "            <td>Lucy Nderitu</td>\n",
              "            <td>Mother</td>\n",
              "            <td>0723238983</td>\n",
              "            <td>stud102</td>\n",
              "            <td>Draco Malfo</td>\n",
              "            <td>25000</td>\n",
              "            <td>19000</td>\n",
              "            <td>0</td>\n",
              "        </tr>\n",
              "        <tr>\n",
              "            <td>347403</td>\n",
              "            <td>stud103</td>\n",
              "            <td>Jayden Wamashati</td>\n",
              "            <td>0734567812</td>\n",
              "            <td>22</td>\n",
              "            <td>Male</td>\n",
              "            <td>stud103</td>\n",
              "            <td>Samburu</td>\n",
              "            <td>Nairobi</td>\n",
              "            <td>Out of school</td>\n",
              "            <td>JaydenWamashati@zinduaschool.ac</td>\n",
              "            <td>None</td>\n",
              "            <td>0734567812</td>\n",
              "            <td>Jerotich Koech</td>\n",
              "            <td>Mother</td>\n",
              "            <td>0779343126</td>\n",
              "            <td>stud103</td>\n",
              "            <td>Jayden Wamashati</td>\n",
              "            <td>21900</td>\n",
              "            <td>20000</td>\n",
              "            <td>0</td>\n",
              "        </tr>\n",
              "        <tr>\n",
              "            <td>377302</td>\n",
              "            <td>stud104</td>\n",
              "            <td>Ron Weasley</td>\n",
              "            <td>0745678123</td>\n",
              "            <td>19</td>\n",
              "            <td>Female</td>\n",
              "            <td>stud104</td>\n",
              "            <td>Kericho</td>\n",
              "            <td>Nairobi</td>\n",
              "            <td>In school</td>\n",
              "            <td>RonWeasley@zinduaschool.ac</td>\n",
              "            <td>None</td>\n",
              "            <td>0745678123</td>\n",
              "            <td>Mwaura Mwangi</td>\n",
              "            <td>Father</td>\n",
              "            <td>0798246347</td>\n",
              "            <td>stud104</td>\n",
              "            <td>Ron Weasley</td>\n",
              "            <td>22000</td>\n",
              "            <td>22000</td>\n",
              "            <td>1</td>\n",
              "        </tr>\n",
              "        <tr>\n",
              "            <td>336741</td>\n",
              "            <td>stud105</td>\n",
              "            <td>Dolores Umbridge</td>\n",
              "            <td>0756781234</td>\n",
              "            <td>21</td>\n",
              "            <td>Male</td>\n",
              "            <td>stud105</td>\n",
              "            <td>Nyamira</td>\n",
              "            <td>Nakuru</td>\n",
              "            <td>In school</td>\n",
              "            <td>DoloresUmbridge@zinduaschool.ac</td>\n",
              "            <td>None</td>\n",
              "            <td>0756781234</td>\n",
              "            <td>Ian Patrick</td>\n",
              "            <td>Father</td>\n",
              "            <td>0711234453</td>\n",
              "            <td>stud105</td>\n",
              "            <td>Dolores Umbridge</td>\n",
              "            <td>25000</td>\n",
              "            <td>23400</td>\n",
              "            <td>0</td>\n",
              "        </tr>\n",
              "        <tr>\n",
              "            <td>307243</td>\n",
              "            <td>stud106</td>\n",
              "            <td>Hedwig Tonks</td>\n",
              "            <td>0767812345</td>\n",
              "            <td>21</td>\n",
              "            <td>Female</td>\n",
              "            <td>stud106</td>\n",
              "            <td>Kisumu</td>\n",
              "            <td>Nairobi</td>\n",
              "            <td>Out of school</td>\n",
              "            <td>HedwigTonks@zinduaschool.ac</td>\n",
              "            <td>None</td>\n",
              "            <td>0767812345</td>\n",
              "            <td>Lebron James</td>\n",
              "            <td>Father</td>\n",
              "            <td>0765439233</td>\n",
              "            <td>stud106</td>\n",
              "            <td>Hedwig Tonks</td>\n",
              "            <td>25000</td>\n",
              "            <td>27000</td>\n",
              "            <td>0</td>\n",
              "        </tr>\n",
              "        <tr>\n",
              "            <td>310932</td>\n",
              "            <td>stud107</td>\n",
              "            <td>Chao Chang</td>\n",
              "            <td>0778123456</td>\n",
              "            <td>22</td>\n",
              "            <td>Male</td>\n",
              "            <td>stud107</td>\n",
              "            <td>Nakuru</td>\n",
              "            <td>Nairobi</td>\n",
              "            <td>Out of school</td>\n",
              "            <td>ChaoChang@zinduaschool.ac</td>\n",
              "            <td>None</td>\n",
              "            <td>0778123456</td>\n",
              "            <td>Magna Carter</td>\n",
              "            <td>Father</td>\n",
              "            <td>0702526243</td>\n",
              "            <td>stud107</td>\n",
              "            <td>Chao Chang</td>\n",
              "            <td>24230</td>\n",
              "            <td>21200</td>\n",
              "            <td>0</td>\n",
              "        </tr>\n",
              "        <tr>\n",
              "            <td>343920</td>\n",
              "            <td>stud108</td>\n",
              "            <td>Curfew Yaeitpm</td>\n",
              "            <td>0781234567</td>\n",
              "            <td>20</td>\n",
              "            <td>Female</td>\n",
              "            <td>stud108</td>\n",
              "            <td>Kisumu</td>\n",
              "            <td>Mombasa</td>\n",
              "            <td>Out of school</td>\n",
              "            <td>CurfewYaeitpm@zinduaschool.ac</td>\n",
              "            <td>None</td>\n",
              "            <td>0781234567</td>\n",
              "            <td>Cindy Wayne</td>\n",
              "            <td>Mother</td>\n",
              "            <td>0747282839</td>\n",
              "            <td>stud108</td>\n",
              "            <td>Curfew Yaeitpm</td>\n",
              "            <td>25000</td>\n",
              "            <td>23500</td>\n",
              "            <td>0</td>\n",
              "        </tr>\n",
              "        <tr>\n",
              "            <td>345261</td>\n",
              "            <td>stud109</td>\n",
              "            <td>Chaptr Mukenya</td>\n",
              "            <td>0722345678</td>\n",
              "            <td>20</td>\n",
              "            <td>Male</td>\n",
              "            <td>stud109</td>\n",
              "            <td>Kericho</td>\n",
              "            <td>Mombasa</td>\n",
              "            <td>In school</td>\n",
              "            <td>ChaptrMukenya@zinduaschool.ac</td>\n",
              "            <td>None</td>\n",
              "            <td>0722345678</td>\n",
              "            <td>Farah Maalim</td>\n",
              "            <td>Mother</td>\n",
              "            <td>0753927482</td>\n",
              "            <td>stud109</td>\n",
              "            <td>Chaptr Mukenya</td>\n",
              "            <td>25000</td>\n",
              "            <td>24500</td>\n",
              "            <td>0</td>\n",
              "        </tr>\n",
              "        <tr>\n",
              "            <td>339152</td>\n",
              "            <td>stud110</td>\n",
              "            <td>Natalie Mpema</td>\n",
              "            <td>0733456781</td>\n",
              "            <td>21</td>\n",
              "            <td>Female</td>\n",
              "            <td>stud110</td>\n",
              "            <td>Nakuru</td>\n",
              "            <td>Mombasa</td>\n",
              "            <td>In school</td>\n",
              "            <td>NatalieMpema@zinduaschool.ac</td>\n",
              "            <td>None</td>\n",
              "            <td>0733456781</td>\n",
              "            <td>Faiba Mbugua</td>\n",
              "            <td>Father</td>\n",
              "            <td>0713245748</td>\n",
              "            <td>stud110</td>\n",
              "            <td>Natalie Mpema</td>\n",
              "            <td>25000</td>\n",
              "            <td>25000</td>\n",
              "            <td>1</td>\n",
              "        </tr>\n",
              "    </tbody>\n",
              "</table>"
            ]
          },
          "metadata": {},
          "execution_count": 79
        }
      ]
    },
    {
      "cell_type": "markdown",
      "source": [
        "3. Add student names on any empty row of stud_name in financial_details"
      ],
      "metadata": {
        "id": "eNWJldssOhbE"
      }
    },
    {
      "cell_type": "markdown",
      "source": [],
      "metadata": {
        "id": "A0rOviih8T0z"
      }
    },
    {
      "cell_type": "code",
      "source": [
        "%%sql\n",
        "UPDATE financial_details\n",
        "SET stud_name = (SELECT personal_details.stud_name\n",
        "FROM personal_details\n",
        "WHERE personal_details.stud_ID = financial_details.stud_ID)\n",
        "WHERE financial_details.stud_name IS NULL;\n"
      ],
      "metadata": {
        "id": "QSzu7KopOq1d",
        "colab": {
          "base_uri": "https://localhost:8080/"
        },
        "outputId": "31bf0873-5045-445a-a404-5dd89f7bdb2b"
      },
      "execution_count": 80,
      "outputs": [
        {
          "output_type": "stream",
          "name": "stdout",
          "text": [
            " * sqlite:///stud_db\n",
            "0 rows affected.\n"
          ]
        },
        {
          "output_type": "execute_result",
          "data": {
            "text/plain": [
              "[]"
            ]
          },
          "metadata": {},
          "execution_count": 80
        }
      ]
    },
    {
      "cell_type": "code",
      "source": [
        "%%sql\n",
        "SELECT * FROM financial_details;"
      ],
      "metadata": {
        "colab": {
          "base_uri": "https://localhost:8080/",
          "height": 390
        },
        "id": "cKsI8LQc8mhY",
        "outputId": "172ed04f-28c6-4ef3-b284-f2b9b1d905c6"
      },
      "execution_count": 82,
      "outputs": [
        {
          "output_type": "stream",
          "name": "stdout",
          "text": [
            " * sqlite:///stud_db\n",
            "Done.\n"
          ]
        },
        {
          "output_type": "execute_result",
          "data": {
            "text/plain": [
              "[('stud101', 'Hermione Granger', 25000, 25000, 1),\n",
              " ('stud102', 'Draco Malfo', 25000, 19000, 0),\n",
              " ('stud103', 'Jayden Wamashati', 21900, 20000, 0),\n",
              " ('stud104', 'Ron Weasley', 22000, 22000, 1),\n",
              " ('stud105', 'Dolores Umbridge', 25000, 23400, 0),\n",
              " ('stud106', 'Hedwig Tonks', 25000, 27000, 0),\n",
              " ('stud107', 'Chao Chang', 24230, 21200, 0),\n",
              " ('stud108', 'Curfew Yaeitpm', 25000, 23500, 0),\n",
              " ('stud109', 'Chaptr Mukenya', 25000, 24500, 0),\n",
              " ('stud110', 'Natalie Mpema', 25000, 25000, 1),\n",
              " ('stud111', 'Crew Nundi', 26000, 26000, 1),\n",
              " ('stud112', 'Bandi Kagunda', 25000, 20900, 0),\n",
              " ('stud113', 'Testimony Omolo', 25000, 22300, 0),\n",
              " ('stud114', 'Career Mpya', 19000, 19000, 1),\n",
              " ('stud115', 'Deamon Anduro', 20800, 20800, 1)]"
            ],
            "text/html": [
              "<table>\n",
              "    <thead>\n",
              "        <tr>\n",
              "            <th>stud_ID</th>\n",
              "            <th>stud_name</th>\n",
              "            <th>sem_fee</th>\n",
              "            <th>fee_paid</th>\n",
              "            <th>fee_cleared</th>\n",
              "        </tr>\n",
              "    </thead>\n",
              "    <tbody>\n",
              "        <tr>\n",
              "            <td>stud101</td>\n",
              "            <td>Hermione Granger</td>\n",
              "            <td>25000</td>\n",
              "            <td>25000</td>\n",
              "            <td>1</td>\n",
              "        </tr>\n",
              "        <tr>\n",
              "            <td>stud102</td>\n",
              "            <td>Draco Malfo</td>\n",
              "            <td>25000</td>\n",
              "            <td>19000</td>\n",
              "            <td>0</td>\n",
              "        </tr>\n",
              "        <tr>\n",
              "            <td>stud103</td>\n",
              "            <td>Jayden Wamashati</td>\n",
              "            <td>21900</td>\n",
              "            <td>20000</td>\n",
              "            <td>0</td>\n",
              "        </tr>\n",
              "        <tr>\n",
              "            <td>stud104</td>\n",
              "            <td>Ron Weasley</td>\n",
              "            <td>22000</td>\n",
              "            <td>22000</td>\n",
              "            <td>1</td>\n",
              "        </tr>\n",
              "        <tr>\n",
              "            <td>stud105</td>\n",
              "            <td>Dolores Umbridge</td>\n",
              "            <td>25000</td>\n",
              "            <td>23400</td>\n",
              "            <td>0</td>\n",
              "        </tr>\n",
              "        <tr>\n",
              "            <td>stud106</td>\n",
              "            <td>Hedwig Tonks</td>\n",
              "            <td>25000</td>\n",
              "            <td>27000</td>\n",
              "            <td>0</td>\n",
              "        </tr>\n",
              "        <tr>\n",
              "            <td>stud107</td>\n",
              "            <td>Chao Chang</td>\n",
              "            <td>24230</td>\n",
              "            <td>21200</td>\n",
              "            <td>0</td>\n",
              "        </tr>\n",
              "        <tr>\n",
              "            <td>stud108</td>\n",
              "            <td>Curfew Yaeitpm</td>\n",
              "            <td>25000</td>\n",
              "            <td>23500</td>\n",
              "            <td>0</td>\n",
              "        </tr>\n",
              "        <tr>\n",
              "            <td>stud109</td>\n",
              "            <td>Chaptr Mukenya</td>\n",
              "            <td>25000</td>\n",
              "            <td>24500</td>\n",
              "            <td>0</td>\n",
              "        </tr>\n",
              "        <tr>\n",
              "            <td>stud110</td>\n",
              "            <td>Natalie Mpema</td>\n",
              "            <td>25000</td>\n",
              "            <td>25000</td>\n",
              "            <td>1</td>\n",
              "        </tr>\n",
              "        <tr>\n",
              "            <td>stud111</td>\n",
              "            <td>Crew Nundi</td>\n",
              "            <td>26000</td>\n",
              "            <td>26000</td>\n",
              "            <td>1</td>\n",
              "        </tr>\n",
              "        <tr>\n",
              "            <td>stud112</td>\n",
              "            <td>Bandi Kagunda</td>\n",
              "            <td>25000</td>\n",
              "            <td>20900</td>\n",
              "            <td>0</td>\n",
              "        </tr>\n",
              "        <tr>\n",
              "            <td>stud113</td>\n",
              "            <td>Testimony Omolo</td>\n",
              "            <td>25000</td>\n",
              "            <td>22300</td>\n",
              "            <td>0</td>\n",
              "        </tr>\n",
              "        <tr>\n",
              "            <td>stud114</td>\n",
              "            <td>Career Mpya</td>\n",
              "            <td>19000</td>\n",
              "            <td>19000</td>\n",
              "            <td>1</td>\n",
              "        </tr>\n",
              "        <tr>\n",
              "            <td>stud115</td>\n",
              "            <td>Deamon Anduro</td>\n",
              "            <td>20800</td>\n",
              "            <td>20800</td>\n",
              "            <td>1</td>\n",
              "        </tr>\n",
              "    </tbody>\n",
              "</table>"
            ]
          },
          "metadata": {},
          "execution_count": 82
        }
      ]
    },
    {
      "cell_type": "markdown",
      "source": [
        "4. On the financial_details table add a column, fee_cleared, that has True if student has cleared current fee and False if not (financial_details_view)\n"
      ],
      "metadata": {
        "id": "cgd3krS1Osn8"
      }
    },
    {
      "cell_type": "code",
      "source": [
        "%%sql\n",
        "ALTER TABLE financial_details\n",
        "ADD COLUMN fee_cleared BOOLEAN;"
      ],
      "metadata": {
        "colab": {
          "base_uri": "https://localhost:8080/"
        },
        "id": "Mx6kPevLO1Rr",
        "outputId": "cf388fbe-7c56-4af5-a0e0-6fc709803a64"
      },
      "execution_count": null,
      "outputs": [
        {
          "output_type": "stream",
          "name": "stdout",
          "text": [
            " * sqlite:///stud_db\n",
            "Done.\n"
          ]
        },
        {
          "output_type": "execute_result",
          "data": {
            "text/plain": [
              "[]"
            ]
          },
          "metadata": {},
          "execution_count": 31
        }
      ]
    },
    {
      "cell_type": "code",
      "source": [
        "%%sql\n",
        "UPDATE financial_details\n",
        "SET fee_cleared = TRUE\n",
        "WHERE sem_fee = fee_paid;\n",
        "\n",
        "UPDATE financial_details\n",
        "SET fee_cleared = FALSE\n",
        "WHERE sem_fee <> fee_paid;"
      ],
      "metadata": {
        "colab": {
          "base_uri": "https://localhost:8080/"
        },
        "id": "T1eO4sMwQmvA",
        "outputId": "6413e458-c208-47d9-b0fe-6551f8a1b46c"
      },
      "execution_count": null,
      "outputs": [
        {
          "output_type": "stream",
          "name": "stdout",
          "text": [
            " * sqlite:///stud_db\n",
            "6 rows affected.\n",
            "9 rows affected.\n"
          ]
        },
        {
          "output_type": "execute_result",
          "data": {
            "text/plain": [
              "[]"
            ]
          },
          "metadata": {},
          "execution_count": 35
        }
      ]
    },
    {
      "cell_type": "code",
      "source": [
        "%sql select * from financial_details AS financial_details_view;"
      ],
      "metadata": {
        "colab": {
          "base_uri": "https://localhost:8080/",
          "height": 390
        },
        "id": "44nFUmaxRdQT",
        "outputId": "66e129f5-246d-41c0-ea7f-d6594e1d557f"
      },
      "execution_count": null,
      "outputs": [
        {
          "output_type": "stream",
          "name": "stdout",
          "text": [
            " * sqlite:///stud_db\n",
            "Done.\n"
          ]
        },
        {
          "output_type": "execute_result",
          "data": {
            "text/plain": [
              "[('stud101', 'Hermione Granger', 25000, 25000, 1),\n",
              " ('stud102', 'Draco Malfo', 25000, 19000, 0),\n",
              " ('stud103', 'Jayden Wamashati', 21900, 20000, 0),\n",
              " ('stud104', 'Ron Weasley', 22000, 22000, 1),\n",
              " ('stud105', 'Dolores Umbridge', 25000, 23400, 0),\n",
              " ('stud106', 'Hedwig Tonks', 25000, 27000, 0),\n",
              " ('stud107', 'Chao Chang', 24230, 21200, 0),\n",
              " ('stud108', 'Curfew Yaeitpm', 25000, 23500, 0),\n",
              " ('stud109', 'Chaptr Mukenya', 25000, 24500, 0),\n",
              " ('stud110', 'Natalie Mpema', 25000, 25000, 1),\n",
              " ('stud111', 'Crew Nundi', 26000, 26000, 1),\n",
              " ('stud112', 'Bandi Kagunda', 25000, 20900, 0),\n",
              " ('stud113', 'Testimony Omolo', 25000, 22300, 0),\n",
              " ('stud114', 'Career Mpya', 19000, 19000, 1),\n",
              " ('stud115', 'Deamon Anduro', 20800, 20800, 1)]"
            ],
            "text/html": [
              "<table>\n",
              "    <thead>\n",
              "        <tr>\n",
              "            <th>stud_ID</th>\n",
              "            <th>stud_name</th>\n",
              "            <th>sem_fee</th>\n",
              "            <th>fee_paid</th>\n",
              "            <th>fee_cleared</th>\n",
              "        </tr>\n",
              "    </thead>\n",
              "    <tbody>\n",
              "        <tr>\n",
              "            <td>stud101</td>\n",
              "            <td>Hermione Granger</td>\n",
              "            <td>25000</td>\n",
              "            <td>25000</td>\n",
              "            <td>1</td>\n",
              "        </tr>\n",
              "        <tr>\n",
              "            <td>stud102</td>\n",
              "            <td>Draco Malfo</td>\n",
              "            <td>25000</td>\n",
              "            <td>19000</td>\n",
              "            <td>0</td>\n",
              "        </tr>\n",
              "        <tr>\n",
              "            <td>stud103</td>\n",
              "            <td>Jayden Wamashati</td>\n",
              "            <td>21900</td>\n",
              "            <td>20000</td>\n",
              "            <td>0</td>\n",
              "        </tr>\n",
              "        <tr>\n",
              "            <td>stud104</td>\n",
              "            <td>Ron Weasley</td>\n",
              "            <td>22000</td>\n",
              "            <td>22000</td>\n",
              "            <td>1</td>\n",
              "        </tr>\n",
              "        <tr>\n",
              "            <td>stud105</td>\n",
              "            <td>Dolores Umbridge</td>\n",
              "            <td>25000</td>\n",
              "            <td>23400</td>\n",
              "            <td>0</td>\n",
              "        </tr>\n",
              "        <tr>\n",
              "            <td>stud106</td>\n",
              "            <td>Hedwig Tonks</td>\n",
              "            <td>25000</td>\n",
              "            <td>27000</td>\n",
              "            <td>0</td>\n",
              "        </tr>\n",
              "        <tr>\n",
              "            <td>stud107</td>\n",
              "            <td>Chao Chang</td>\n",
              "            <td>24230</td>\n",
              "            <td>21200</td>\n",
              "            <td>0</td>\n",
              "        </tr>\n",
              "        <tr>\n",
              "            <td>stud108</td>\n",
              "            <td>Curfew Yaeitpm</td>\n",
              "            <td>25000</td>\n",
              "            <td>23500</td>\n",
              "            <td>0</td>\n",
              "        </tr>\n",
              "        <tr>\n",
              "            <td>stud109</td>\n",
              "            <td>Chaptr Mukenya</td>\n",
              "            <td>25000</td>\n",
              "            <td>24500</td>\n",
              "            <td>0</td>\n",
              "        </tr>\n",
              "        <tr>\n",
              "            <td>stud110</td>\n",
              "            <td>Natalie Mpema</td>\n",
              "            <td>25000</td>\n",
              "            <td>25000</td>\n",
              "            <td>1</td>\n",
              "        </tr>\n",
              "        <tr>\n",
              "            <td>stud111</td>\n",
              "            <td>Crew Nundi</td>\n",
              "            <td>26000</td>\n",
              "            <td>26000</td>\n",
              "            <td>1</td>\n",
              "        </tr>\n",
              "        <tr>\n",
              "            <td>stud112</td>\n",
              "            <td>Bandi Kagunda</td>\n",
              "            <td>25000</td>\n",
              "            <td>20900</td>\n",
              "            <td>0</td>\n",
              "        </tr>\n",
              "        <tr>\n",
              "            <td>stud113</td>\n",
              "            <td>Testimony Omolo</td>\n",
              "            <td>25000</td>\n",
              "            <td>22300</td>\n",
              "            <td>0</td>\n",
              "        </tr>\n",
              "        <tr>\n",
              "            <td>stud114</td>\n",
              "            <td>Career Mpya</td>\n",
              "            <td>19000</td>\n",
              "            <td>19000</td>\n",
              "            <td>1</td>\n",
              "        </tr>\n",
              "        <tr>\n",
              "            <td>stud115</td>\n",
              "            <td>Deamon Anduro</td>\n",
              "            <td>20800</td>\n",
              "            <td>20800</td>\n",
              "            <td>1</td>\n",
              "        </tr>\n",
              "    </tbody>\n",
              "</table>"
            ]
          },
          "metadata": {},
          "execution_count": 37
        }
      ]
    },
    {
      "cell_type": "markdown",
      "source": [
        "5. Get the national ID and name of all students who have cleared their fees (fee_cleared)\n"
      ],
      "metadata": {
        "id": "5YqlwTYaSEER"
      }
    },
    {
      "cell_type": "code",
      "source": [
        "%%sql\n",
        "SELECT personal_details.stud_ID, personal_details.stud_name FROM personal_details\n",
        "WHERE personal_details.stud_ID IN\n",
        "(SELECT financial_details.stud_ID FROM financial_details\n",
        "WHERE financial_details.fee_cleared = 1);"
      ],
      "metadata": {
        "colab": {
          "base_uri": "https://localhost:8080/",
          "height": 202
        },
        "id": "ajQ2eVZKSMZ7",
        "outputId": "09290055-5b92-4b01-ec96-67201d1697bf"
      },
      "execution_count": null,
      "outputs": [
        {
          "output_type": "stream",
          "name": "stdout",
          "text": [
            " * sqlite:///stud_db\n",
            "Done.\n"
          ]
        },
        {
          "output_type": "execute_result",
          "data": {
            "text/plain": [
              "[('stud101', 'Hermione Granger'),\n",
              " ('stud104', 'Ron Weasley'),\n",
              " ('stud110', 'Natalie Mpema'),\n",
              " ('stud111', 'Crew Nundi'),\n",
              " ('stud114', 'Career Mpya'),\n",
              " ('stud115', 'Deamon Anduro')]"
            ],
            "text/html": [
              "<table>\n",
              "    <thead>\n",
              "        <tr>\n",
              "            <th>stud_ID</th>\n",
              "            <th>stud_name</th>\n",
              "        </tr>\n",
              "    </thead>\n",
              "    <tbody>\n",
              "        <tr>\n",
              "            <td>stud101</td>\n",
              "            <td>Hermione Granger</td>\n",
              "        </tr>\n",
              "        <tr>\n",
              "            <td>stud104</td>\n",
              "            <td>Ron Weasley</td>\n",
              "        </tr>\n",
              "        <tr>\n",
              "            <td>stud110</td>\n",
              "            <td>Natalie Mpema</td>\n",
              "        </tr>\n",
              "        <tr>\n",
              "            <td>stud111</td>\n",
              "            <td>Crew Nundi</td>\n",
              "        </tr>\n",
              "        <tr>\n",
              "            <td>stud114</td>\n",
              "            <td>Career Mpya</td>\n",
              "        </tr>\n",
              "        <tr>\n",
              "            <td>stud115</td>\n",
              "            <td>Deamon Anduro</td>\n",
              "        </tr>\n",
              "    </tbody>\n",
              "</table>"
            ]
          },
          "metadata": {},
          "execution_count": 40
        }
      ]
    },
    {
      "cell_type": "markdown",
      "source": [
        "6. Get the total sum of fees paid so far and the total current deficit (total_fee_balance)"
      ],
      "metadata": {
        "id": "il1tEUfWVLqS"
      }
    },
    {
      "cell_type": "code",
      "source": [
        "%%sql\n",
        "SELECT SUM(fee_paid) FROM financial_details;"
      ],
      "metadata": {
        "colab": {
          "base_uri": "https://localhost:8080/",
          "height": 97
        },
        "id": "dXatDwI4VTBL",
        "outputId": "1f78d279-7782-4032-8946-5ed4891776e6"
      },
      "execution_count": null,
      "outputs": [
        {
          "output_type": "stream",
          "name": "stdout",
          "text": [
            " * sqlite:///stud_db\n",
            "Done.\n"
          ]
        },
        {
          "output_type": "execute_result",
          "data": {
            "text/plain": [
              "[(339600,)]"
            ],
            "text/html": [
              "<table>\n",
              "    <thead>\n",
              "        <tr>\n",
              "            <th>SUM(fee_paid)</th>\n",
              "        </tr>\n",
              "    </thead>\n",
              "    <tbody>\n",
              "        <tr>\n",
              "            <td>339600</td>\n",
              "        </tr>\n",
              "    </tbody>\n",
              "</table>"
            ]
          },
          "metadata": {},
          "execution_count": 42
        }
      ]
    },
    {
      "cell_type": "code",
      "source": [
        "%%sql\n",
        "SELECT SUM(fee_paid),\n",
        "       SUM(sem_fee) - SUM(fee_paid) AS total_deficit FROM financial_details;"
      ],
      "metadata": {
        "colab": {
          "base_uri": "https://localhost:8080/",
          "height": 97
        },
        "id": "L2W6X9pFXFA4",
        "outputId": "2f59823e-456a-420d-d5d8-35f4916e8145"
      },
      "execution_count": null,
      "outputs": [
        {
          "output_type": "stream",
          "name": "stdout",
          "text": [
            " * sqlite:///stud_db\n",
            "Done.\n"
          ]
        },
        {
          "output_type": "execute_result",
          "data": {
            "text/plain": [
              "[(339600, 19330)]"
            ],
            "text/html": [
              "<table>\n",
              "    <thead>\n",
              "        <tr>\n",
              "            <th>SUM(fee_paid)</th>\n",
              "            <th>total_deficit</th>\n",
              "        </tr>\n",
              "    </thead>\n",
              "    <tbody>\n",
              "        <tr>\n",
              "            <td>339600</td>\n",
              "            <td>19330</td>\n",
              "        </tr>\n",
              "    </tbody>\n",
              "</table>"
            ]
          },
          "metadata": {},
          "execution_count": 44
        }
      ]
    },
    {
      "cell_type": "markdown",
      "source": [
        "7. Get the count of students who share a current home county i.e., Say Nairobi, get the number of students who’s current_home_county is Nairobi, and so on for all available counties (home_county_count)"
      ],
      "metadata": {
        "id": "GVxwhjt2XjjB"
      }
    },
    {
      "cell_type": "code",
      "source": [
        "%%sql\n",
        "SELECT COUNT(stud_ID) FROM school_details WHERE current_home_county = \"Nairobi\";"
      ],
      "metadata": {
        "id": "XyOaNLySXszT",
        "colab": {
          "base_uri": "https://localhost:8080/",
          "height": 97
        },
        "outputId": "d4a622a9-1901-468d-f783-6b5934e925aa"
      },
      "execution_count": 46,
      "outputs": [
        {
          "output_type": "stream",
          "name": "stdout",
          "text": [
            " * sqlite:///stud_db\n",
            "Done.\n"
          ]
        },
        {
          "output_type": "execute_result",
          "data": {
            "text/plain": [
              "[(2,)]"
            ],
            "text/html": [
              "<table>\n",
              "    <thead>\n",
              "        <tr>\n",
              "            <th>COUNT(stud_ID)</th>\n",
              "        </tr>\n",
              "    </thead>\n",
              "    <tbody>\n",
              "        <tr>\n",
              "            <td>2</td>\n",
              "        </tr>\n",
              "    </tbody>\n",
              "</table>"
            ]
          },
          "metadata": {},
          "execution_count": 46
        }
      ]
    },
    {
      "cell_type": "code",
      "source": [
        "%%sql\n",
        "SELECT COUNT(stud_ID) FROM school_details WHERE current_home_county = \"Nakuru\";\n"
      ],
      "metadata": {
        "colab": {
          "base_uri": "https://localhost:8080/",
          "height": 97
        },
        "id": "clRD8RTumaU-",
        "outputId": "36a2c6e3-e9dd-471d-eb8a-a3afd7b279ce"
      },
      "execution_count": 48,
      "outputs": [
        {
          "output_type": "stream",
          "name": "stdout",
          "text": [
            " * sqlite:///stud_db\n",
            "Done.\n"
          ]
        },
        {
          "output_type": "execute_result",
          "data": {
            "text/plain": [
              "[(3,)]"
            ],
            "text/html": [
              "<table>\n",
              "    <thead>\n",
              "        <tr>\n",
              "            <th>COUNT(stud_ID)</th>\n",
              "        </tr>\n",
              "    </thead>\n",
              "    <tbody>\n",
              "        <tr>\n",
              "            <td>3</td>\n",
              "        </tr>\n",
              "    </tbody>\n",
              "</table>"
            ]
          },
          "metadata": {},
          "execution_count": 48
        }
      ]
    },
    {
      "cell_type": "code",
      "source": [
        "%%sql\n",
        "SELECT COUNT(stud_ID) FROM school_details WHERE current_home_county = \"Samburu\";\n"
      ],
      "metadata": {
        "colab": {
          "base_uri": "https://localhost:8080/",
          "height": 97
        },
        "id": "TgqRIabmm4v2",
        "outputId": "ae220aba-78bc-4f0d-fe76-4ac558b00ced"
      },
      "execution_count": 49,
      "outputs": [
        {
          "output_type": "stream",
          "name": "stdout",
          "text": [
            " * sqlite:///stud_db\n",
            "Done.\n"
          ]
        },
        {
          "output_type": "execute_result",
          "data": {
            "text/plain": [
              "[(2,)]"
            ],
            "text/html": [
              "<table>\n",
              "    <thead>\n",
              "        <tr>\n",
              "            <th>COUNT(stud_ID)</th>\n",
              "        </tr>\n",
              "    </thead>\n",
              "    <tbody>\n",
              "        <tr>\n",
              "            <td>2</td>\n",
              "        </tr>\n",
              "    </tbody>\n",
              "</table>"
            ]
          },
          "metadata": {},
          "execution_count": 49
        }
      ]
    },
    {
      "cell_type": "code",
      "source": [
        "%%sql\n",
        "SELECT COUNT(stud_ID) FROM school_details WHERE current_home_county = \"Kericho\";\n"
      ],
      "metadata": {
        "colab": {
          "base_uri": "https://localhost:8080/",
          "height": 97
        },
        "id": "zsMmARtNm9jQ",
        "outputId": "f68725c4-ac32-4d32-b305-6315f2c7ea0a"
      },
      "execution_count": 50,
      "outputs": [
        {
          "output_type": "stream",
          "name": "stdout",
          "text": [
            " * sqlite:///stud_db\n",
            "Done.\n"
          ]
        },
        {
          "output_type": "execute_result",
          "data": {
            "text/plain": [
              "[(3,)]"
            ],
            "text/html": [
              "<table>\n",
              "    <thead>\n",
              "        <tr>\n",
              "            <th>COUNT(stud_ID)</th>\n",
              "        </tr>\n",
              "    </thead>\n",
              "    <tbody>\n",
              "        <tr>\n",
              "            <td>3</td>\n",
              "        </tr>\n",
              "    </tbody>\n",
              "</table>"
            ]
          },
          "metadata": {},
          "execution_count": 50
        }
      ]
    },
    {
      "cell_type": "code",
      "source": [
        "%%sql\n",
        "SELECT COUNT(stud_ID) FROM school_details WHERE current_home_county = \"Nyamira\";\n"
      ],
      "metadata": {
        "colab": {
          "base_uri": "https://localhost:8080/",
          "height": 97
        },
        "id": "q9Yxhj9ZnDzf",
        "outputId": "ebc2cd61-b4a8-4be8-a705-9672b2e7bdac"
      },
      "execution_count": 51,
      "outputs": [
        {
          "output_type": "stream",
          "name": "stdout",
          "text": [
            " * sqlite:///stud_db\n",
            "Done.\n"
          ]
        },
        {
          "output_type": "execute_result",
          "data": {
            "text/plain": [
              "[(1,)]"
            ],
            "text/html": [
              "<table>\n",
              "    <thead>\n",
              "        <tr>\n",
              "            <th>COUNT(stud_ID)</th>\n",
              "        </tr>\n",
              "    </thead>\n",
              "    <tbody>\n",
              "        <tr>\n",
              "            <td>1</td>\n",
              "        </tr>\n",
              "    </tbody>\n",
              "</table>"
            ]
          },
          "metadata": {},
          "execution_count": 51
        }
      ]
    },
    {
      "cell_type": "code",
      "source": [
        "%%sql\n",
        "SELECT COUNT(stud_ID) FROM school_details WHERE current_home_county = \"Kisumu\";\n"
      ],
      "metadata": {
        "colab": {
          "base_uri": "https://localhost:8080/",
          "height": 97
        },
        "id": "ecrXQpDenJOh",
        "outputId": "8a0eb416-fbae-46ad-f2f8-5647d402a028"
      },
      "execution_count": 52,
      "outputs": [
        {
          "output_type": "stream",
          "name": "stdout",
          "text": [
            " * sqlite:///stud_db\n",
            "Done.\n"
          ]
        },
        {
          "output_type": "execute_result",
          "data": {
            "text/plain": [
              "[(2,)]"
            ],
            "text/html": [
              "<table>\n",
              "    <thead>\n",
              "        <tr>\n",
              "            <th>COUNT(stud_ID)</th>\n",
              "        </tr>\n",
              "    </thead>\n",
              "    <tbody>\n",
              "        <tr>\n",
              "            <td>2</td>\n",
              "        </tr>\n",
              "    </tbody>\n",
              "</table>"
            ]
          },
          "metadata": {},
          "execution_count": 52
        }
      ]
    },
    {
      "cell_type": "code",
      "source": [
        "%%sql\n",
        "SELECT COUNT(stud_ID) FROM school_details WHERE current_home_county = \"Kiambu\";"
      ],
      "metadata": {
        "colab": {
          "base_uri": "https://localhost:8080/",
          "height": 97
        },
        "id": "Px6rySrbnQJU",
        "outputId": "13fcafa6-9dd1-4e4d-c7e2-ed54ad99f208"
      },
      "execution_count": 53,
      "outputs": [
        {
          "output_type": "stream",
          "name": "stdout",
          "text": [
            " * sqlite:///stud_db\n",
            "Done.\n"
          ]
        },
        {
          "output_type": "execute_result",
          "data": {
            "text/plain": [
              "[(2,)]"
            ],
            "text/html": [
              "<table>\n",
              "    <thead>\n",
              "        <tr>\n",
              "            <th>COUNT(stud_ID)</th>\n",
              "        </tr>\n",
              "    </thead>\n",
              "    <tbody>\n",
              "        <tr>\n",
              "            <td>2</td>\n",
              "        </tr>\n",
              "    </tbody>\n",
              "</table>"
            ]
          },
          "metadata": {},
          "execution_count": 53
        }
      ]
    },
    {
      "cell_type": "code",
      "source": [
        "%%sql\n",
        "SELECT COUNT(stud_ID), current_home_county FROM school_details GROUP BY current_home_county;"
      ],
      "metadata": {
        "colab": {
          "base_uri": "https://localhost:8080/",
          "height": 223
        },
        "id": "Qj1-sAe2pSAA",
        "outputId": "4c397f24-0404-49d1-ccc5-4bc8e09ebdbf"
      },
      "execution_count": 55,
      "outputs": [
        {
          "output_type": "stream",
          "name": "stdout",
          "text": [
            " * sqlite:///stud_db\n",
            "Done.\n"
          ]
        },
        {
          "output_type": "execute_result",
          "data": {
            "text/plain": [
              "[(3, 'Kericho'),\n",
              " (2, 'Kiambu'),\n",
              " (2, 'Kisumu'),\n",
              " (2, 'Nairobi'),\n",
              " (3, 'Nakuru'),\n",
              " (1, 'Nyamira'),\n",
              " (2, 'Samburu')]"
            ],
            "text/html": [
              "<table>\n",
              "    <thead>\n",
              "        <tr>\n",
              "            <th>COUNT(stud_ID)</th>\n",
              "            <th>current_home_county</th>\n",
              "        </tr>\n",
              "    </thead>\n",
              "    <tbody>\n",
              "        <tr>\n",
              "            <td>3</td>\n",
              "            <td>Kericho</td>\n",
              "        </tr>\n",
              "        <tr>\n",
              "            <td>2</td>\n",
              "            <td>Kiambu</td>\n",
              "        </tr>\n",
              "        <tr>\n",
              "            <td>2</td>\n",
              "            <td>Kisumu</td>\n",
              "        </tr>\n",
              "        <tr>\n",
              "            <td>2</td>\n",
              "            <td>Nairobi</td>\n",
              "        </tr>\n",
              "        <tr>\n",
              "            <td>3</td>\n",
              "            <td>Nakuru</td>\n",
              "        </tr>\n",
              "        <tr>\n",
              "            <td>1</td>\n",
              "            <td>Nyamira</td>\n",
              "        </tr>\n",
              "        <tr>\n",
              "            <td>2</td>\n",
              "            <td>Samburu</td>\n",
              "        </tr>\n",
              "    </tbody>\n",
              "</table>"
            ]
          },
          "metadata": {},
          "execution_count": 55
        }
      ]
    },
    {
      "cell_type": "markdown",
      "source": [
        "8. Get the count of Male and/or Female students from each secondary_school_county (secondary_school_count). The table should contain a column for male student count and female student count for each county."
      ],
      "metadata": {
        "id": "VGpaa9ZNnUfF"
      }
    },
    {
      "cell_type": "code",
      "source": [
        "%%sql\n",
        "SELECT secondary_school_county, COUNT(CASE WHEN gender = 'Male' THEN 1 END) AS MALE, COUNT(CASE WHEN gender = 'Female' THEN 1 END) AS FEMALE FROM personal_details\n",
        "INNER JOIN school_details ON personal_details.stud_ID = school_details.stud_ID\n",
        "GROUP BY secondary_school_county;\n"
      ],
      "metadata": {
        "colab": {
          "base_uri": "https://localhost:8080/",
          "height": 181
        },
        "id": "V20nKafe04S5",
        "outputId": "8fb8e70e-29e4-44a6-ba2c-7bc92aa85b8b"
      },
      "execution_count": 59,
      "outputs": [
        {
          "output_type": "stream",
          "name": "stdout",
          "text": [
            " * sqlite:///stud_db\n",
            "Done.\n"
          ]
        },
        {
          "output_type": "execute_result",
          "data": {
            "text/plain": [
              "[('Mombasa', 1, 3),\n",
              " ('Nairobi', 4, 2),\n",
              " ('Nakuru', 1, 2),\n",
              " ('Taita Taveta', 1, 0),\n",
              " ('Turkana', 1, 0)]"
            ],
            "text/html": [
              "<table>\n",
              "    <thead>\n",
              "        <tr>\n",
              "            <th>secondary_school_county</th>\n",
              "            <th>male_count</th>\n",
              "            <th>FEMALE</th>\n",
              "        </tr>\n",
              "    </thead>\n",
              "    <tbody>\n",
              "        <tr>\n",
              "            <td>Mombasa</td>\n",
              "            <td>1</td>\n",
              "            <td>3</td>\n",
              "        </tr>\n",
              "        <tr>\n",
              "            <td>Nairobi</td>\n",
              "            <td>4</td>\n",
              "            <td>2</td>\n",
              "        </tr>\n",
              "        <tr>\n",
              "            <td>Nakuru</td>\n",
              "            <td>1</td>\n",
              "            <td>2</td>\n",
              "        </tr>\n",
              "        <tr>\n",
              "            <td>Taita Taveta</td>\n",
              "            <td>1</td>\n",
              "            <td>0</td>\n",
              "        </tr>\n",
              "        <tr>\n",
              "            <td>Turkana</td>\n",
              "            <td>1</td>\n",
              "            <td>0</td>\n",
              "        </tr>\n",
              "    </tbody>\n",
              "</table>"
            ]
          },
          "metadata": {},
          "execution_count": 59
        }
      ]
    },
    {
      "cell_type": "markdown",
      "source": [
        "9. Get the percentage of students who set their next_of_kin as Mother vs those that set it as Father1. (kin_percentage)"
      ],
      "metadata": {
        "id": "nCzurYSi2JOi"
      }
    },
    {
      "cell_type": "code",
      "source": [
        "%%sql\n",
        "SELECT\n",
        "    COUNT(CASE WHEN next_of_kin_relation = 'Mother' THEN 1 END) * 100.0 / COUNT(*) AS mother_percentage,\n",
        "    COUNT(CASE WHEN next_of_kin_relation = 'Father' THEN 1 END) * 100.0 / COUNT(*) AS father_percentage\n",
        "FROM contact_details;\n"
      ],
      "metadata": {
        "colab": {
          "base_uri": "https://localhost:8080/",
          "height": 97
        },
        "id": "HcpQldLQ2Waa",
        "outputId": "2fb44ab2-12a2-4cf9-8d61-ef6028ff9150"
      },
      "execution_count": 71,
      "outputs": [
        {
          "output_type": "stream",
          "name": "stdout",
          "text": [
            " * sqlite:///stud_db\n",
            "Done.\n"
          ]
        },
        {
          "output_type": "execute_result",
          "data": {
            "text/plain": [
              "[(46.666666666666664, 53.333333333333336)]"
            ],
            "text/html": [
              "<table>\n",
              "    <thead>\n",
              "        <tr>\n",
              "            <th>mother_percentage</th>\n",
              "            <th>father_percentage</th>\n",
              "        </tr>\n",
              "    </thead>\n",
              "    <tbody>\n",
              "        <tr>\n",
              "            <td>46.666666666666664</td>\n",
              "            <td>53.333333333333336</td>\n",
              "        </tr>\n",
              "    </tbody>\n",
              "</table>"
            ]
          },
          "metadata": {},
          "execution_count": 71
        }
      ]
    }
  ]
}